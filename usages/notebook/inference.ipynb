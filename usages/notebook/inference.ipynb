{
 "cells": [
  {
   "cell_type": "code",
   "execution_count": 1,
   "metadata": {
    "ExecuteTime": {
     "end_time": "2024-12-30T04:48:05.445192Z",
     "start_time": "2024-12-30T04:48:04.412132Z"
    },
    "pycharm": {
     "is_executing": true
    },
    "tags": []
   },
   "outputs": [],
   "source": [
    "import sys\n",
    "sys.path.append('../../')\n",
    "import ipywidgets as widgets\n",
    "from IPython.display import display\n",
    "import stackview\n",
    "import datetime\n",
    "from matplotlib import pyplot as plt\n",
    "import numpy as np\n",
    "\n",
    "import ailoc.lunar\n",
    "import ailoc.deeploc\n",
    "import ailoc.common\n",
    "import logging\n",
    "logger = logging.getLogger()\n",
    "logger.setLevel(logging.ERROR)\n",
    "ailoc.common.setup_seed(42)\n",
    "\n",
    "%matplotlib inline"
   ]
  },
  {
   "cell_type": "markdown",
   "metadata": {},
   "source": [
    "## 1. Set the paths of DeepLoc model, images, predictions and analyzer parameters. "
   ]
  },
  {
   "cell_type": "code",
   "execution_count": 2,
   "metadata": {
    "ExecuteTime": {
     "end_time": "2024-12-30T04:48:07.230121Z",
     "start_time": "2024-12-30T04:48:07.206901Z"
    },
    "tags": []
   },
   "outputs": [
    {
     "data": {
      "application/vnd.jupyter.widget-view+json": {
       "model_id": "5a9e7be2377b47fc905edbea81ab6cf0",
       "version_major": 2,
       "version_minor": 0
      },
      "text/plain": [
       "SelectFilesButton(description='Select trained model', icon='square-o', layout=Layout(height='80px', width='100…"
      ]
     },
     "metadata": {},
     "output_type": "display_data"
    },
    {
     "data": {
      "application/vnd.jupyter.widget-view+json": {
       "model_id": "fbb4e344de3e4ea38a141727ec90fcbe",
       "version_major": 2,
       "version_minor": 0
      },
      "text/plain": [
       "Checkbox(value=True, description='Select all tiff files under the folder', indent=False)"
      ]
     },
     "metadata": {},
     "output_type": "display_data"
    },
    {
     "data": {
      "application/vnd.jupyter.widget-view+json": {
       "model_id": "e01b2717764a4c6dad879d3c25972fd9",
       "version_major": 2,
       "version_minor": 0
      },
      "text/plain": [
       "SelectFilesButton(description='Select tiff file', icon='square-o', layout=Layout(height='80px', width='100%'),…"
      ]
     },
     "metadata": {},
     "output_type": "display_data"
    },
    {
     "data": {
      "application/vnd.jupyter.widget-view+json": {
       "model_id": "2834b8e182b0456f8876847bfe224c0f",
       "version_major": 2,
       "version_minor": 0
      },
      "text/plain": [
       "SaveFilesButton(description='Save predicted CSV', icon='square-o', layout=Layout(height='80px', width='100%'),…"
      ]
     },
     "metadata": {},
     "output_type": "display_data"
    },
    {
     "data": {
      "application/vnd.jupyter.widget-view+json": {
       "model_id": "dcdc3bb6021742d5a5665f9be7173e55",
       "version_major": 2,
       "version_minor": 0
      },
      "text/plain": [
       "GridspecLayout(children=(BoundedIntText(value=1, description='Block(GB)', layout=Layout(grid_area='widget001')…"
      ]
     },
     "metadata": {},
     "output_type": "display_data"
    },
    {
     "data": {
      "application/vnd.jupyter.widget-view+json": {
       "model_id": "2e6b746397fa4cdc919b150a3f0c52a2",
       "version_major": 2,
       "version_minor": 0
      },
      "text/plain": [
       "Button(description='OK', style=ButtonStyle())"
      ]
     },
     "metadata": {},
     "output_type": "display_data"
    },
    {
     "data": {
      "application/vnd.jupyter.widget-view+json": {
       "model_id": "04c7bdb6667e46009d0a831f7e56f322",
       "version_major": 2,
       "version_minor": 0
      },
      "text/plain": [
       "Output()"
      ]
     },
     "metadata": {},
     "output_type": "display_data"
    }
   ],
   "source": [
    "analyzer_param_widget = ailoc.common.SetAnalyzerParamWidget()\n",
    "analyzer_param_widget.display_notebook_gui()"
   ]
  },
  {
   "cell_type": "markdown",
   "metadata": {},
   "source": [
    "## 2. Run the code cell to initialize the DeepLoc analyzer"
   ]
  },
  {
   "cell_type": "code",
   "execution_count": 3,
   "metadata": {
    "ExecuteTime": {
     "end_time": "2024-12-30T04:48:12.213675Z",
     "start_time": "2024-12-30T04:48:12.176615Z"
    },
    "scrolled": true,
    "tags": []
   },
   "outputs": [
    {
     "name": "stdout",
     "output_type": "stream",
     "text": [
      "--------------------------------------------------------------------------------------------------------------------------------------------------------------------------------------------------------\n",
      "the file to save the predictions is: D:/Li_Lab_users/fushuang/AI4Loc-master/results/2024-12-30-07LUNAR_SL_demo2-exp_npc_dmo1_predictions.csv\n",
      "frame ranges || filename: \n",
      "[0-26675] || D:\\Li_Lab_users\\fushuang\\AI4Loc-master\\datasets\\demo2-exp_npc_dmo1.2\\npc_DMO1.2__6_MMStack_Default.ome.tif\n",
      "[26676-53351] || D:\\Li_Lab_users\\fushuang\\AI4Loc-master\\datasets\\demo2-exp_npc_dmo1.2\\npc_DMO1.2__6_MMStack_Default_1.ome.tif\n",
      "[53352-79300] || D:\\Li_Lab_users\\fushuang\\AI4Loc-master\\datasets\\demo2-exp_npc_dmo1.2\\npc_DMO1.2__6_MMStack_Default_2.ome.tif\n",
      "\u001B[0;31mWarning: meta data shows that the tiff stack has 100000 frames, the sum of all file pages is 79301\u001B[0m\n"
     ]
    }
   ],
   "source": [
    "data_analyzer = ailoc.common.SmlmDataAnalyzer(loc_model=analyzer_param_widget.analyzer_param['loc_model'],\n",
    "                                                 tiff_path=analyzer_param_widget.analyzer_param['tiff_path'],\n",
    "                                                 output_path=analyzer_param_widget.analyzer_param['output_path'],\n",
    "                                                 time_block_gb=analyzer_param_widget.analyzer_param['time_block_gb'],\n",
    "                                                 batch_size=analyzer_param_widget.analyzer_param['batch_size'],\n",
    "                                                 sub_fov_size=analyzer_param_widget.analyzer_param['sub_fov_size'],\n",
    "                                                 over_cut=analyzer_param_widget.analyzer_param['over_cut'],\n",
    "                                                 num_workers=analyzer_param_widget.analyzer_param['num_workers'])"
   ]
  },
  {
   "cell_type": "markdown",
   "metadata": {},
   "source": [
    "## 3. Check the predictions about a specific frame"
   ]
  },
  {
   "cell_type": "code",
   "execution_count": 4,
   "metadata": {
    "tags": []
   },
   "outputs": [
    {
     "data": {
      "application/vnd.jupyter.widget-view+json": {
       "model_id": "a3cbed4c1e3e45cf8cb68fc80ec4f523",
       "version_major": 2,
       "version_minor": 0
      },
      "text/plain": [
       "VBox(children=(HBox(children=(Label(value='Input the frame number:'), BoundedIntText(value=0, max=79300))), Ou…"
      ]
     },
     "metadata": {},
     "output_type": "display_data"
    }
   ],
   "source": [
    "frame_num_widget = widgets.HBox([widgets.Label(value='Input the frame number:'), widgets.BoundedIntText(value=0, min=0, max=data_analyzer.tiff_dataset.sum_file_length-1, step=1,)])\n",
    "out = widgets.interactive_output(data_analyzer.check_single_frame_output, {'frame_num': frame_num_widget.children[1]})\n",
    "\n",
    "display(widgets.VBox([frame_num_widget, out]))"
   ]
  },
  {
   "cell_type": "markdown",
   "metadata": {},
   "source": [
    "## 4. Run the code cell to analyze the data  "
   ]
  },
  {
   "cell_type": "code",
   "execution_count": 5,
   "metadata": {
    "scrolled": true,
    "tags": []
   },
   "outputs": [
    {
     "name": "stdout",
     "output_type": "stream",
     "text": [
      "Analyzing block: 1/11, contain frames: 7589, already analyzed: 0/79301, ETA: inf min\n",
      "Processing sub-FOV: 4/4, (248, 267, 248, 263), keep molecules in: (256, 267, 256, 263), loc model: <class 'ailoc.lunar.lunar.Lunar_SyncLearning'>\n",
      "Analyzing block: 2/11, contain frames: 7589, already analyzed: 7589/79301, ETA: 11.03 min\n",
      "Processing sub-FOV: 4/4, (248, 267, 248, 263), keep molecules in: (256, 267, 256, 263), loc model: <class 'ailoc.lunar.lunar.Lunar_SyncLearning'>\n",
      "Analyzing block: 3/11, contain frames: 7589, already analyzed: 15178/79301, ETA: 9.82 min\n",
      "Processing sub-FOV: 4/4, (248, 267, 248, 263), keep molecules in: (256, 267, 256, 263), loc model: <class 'ailoc.lunar.lunar.Lunar_SyncLearning'>\n",
      "Analyzing block: 4/11, contain frames: 7589, already analyzed: 22767/79301, ETA: 8.71 min\n",
      "Processing sub-FOV: 4/4, (248, 267, 248, 263), keep molecules in: (256, 267, 256, 263), loc model: <class 'ailoc.lunar.lunar.Lunar_SyncLearning'>\n",
      "Analyzing block: 5/11, contain frames: 7589, already analyzed: 30356/79301, ETA: 7.58 min\n",
      "Processing sub-FOV: 4/4, (248, 267, 248, 263), keep molecules in: (256, 267, 256, 263), loc model: <class 'ailoc.lunar.lunar.Lunar_SyncLearning'>\n",
      "Analyzing block: 6/11, contain frames: 7589, already analyzed: 37945/79301, ETA: 6.51 min\n",
      "Processing sub-FOV: 4/4, (248, 267, 248, 263), keep molecules in: (256, 267, 256, 263), loc model: <class 'ailoc.lunar.lunar.Lunar_SyncLearning'>\n",
      "Analyzing block: 7/11, contain frames: 7589, already analyzed: 45534/79301, ETA: 5.41 min\n",
      "Processing sub-FOV: 4/4, (248, 267, 248, 263), keep molecules in: (256, 267, 256, 263), loc model: <class 'ailoc.lunar.lunar.Lunar_SyncLearning'>\n",
      "Analyzing block: 8/11, contain frames: 7589, already analyzed: 53123/79301, ETA: 4.34 min\n",
      "Processing sub-FOV: 4/4, (248, 267, 248, 263), keep molecules in: (256, 267, 256, 263), loc model: <class 'ailoc.lunar.lunar.Lunar_SyncLearning'>\n",
      "Analyzing block: 9/11, contain frames: 7589, already analyzed: 60712/79301, ETA: 3.25 min\n",
      "Processing sub-FOV: 4/4, (248, 267, 248, 263), keep molecules in: (256, 267, 256, 263), loc model: <class 'ailoc.lunar.lunar.Lunar_SyncLearning'>\n",
      "Analyzing block: 10/11, contain frames: 7589, already analyzed: 68301/79301, ETA: 2.16 min\n",
      "Processing sub-FOV: 4/4, (248, 267, 248, 263), keep molecules in: (256, 267, 256, 263), loc model: <class 'ailoc.lunar.lunar.Lunar_SyncLearning'>\n",
      "Analyzing block: 11/11, contain frames: 3411, already analyzed: 75890/79301, ETA: 1.05 min\n",
      "Processing sub-FOV: 4/4, (248, 267, 248, 263), keep molecules in: (256, 267, 256, 263), loc model: <class 'ailoc.lunar.lunar.Lunar_SyncLearning'>\n",
      "Applying histogram equalization to the xy offsets as the predictions with large uncertainties tend to concentrate on pixel centers in difficult conditions (low SNR, high density, etc.). So replace the original xnm and ynm with x_rescale and y_rescale, this will not affect the localization accuracy, only improve the visualization.\n"
     ]
    },
    {
     "data": {
      "image/png": "[encoded data removed]",
      "text/plain": [
       "<Figure size 640x480 with 4 Axes>"
      ]
     },
     "metadata": {},
     "output_type": "display_data"
    },
    {
     "name": "stdout",
     "output_type": "stream",
     "text": [
      "histogram equalization finished, time cost (min): 0.15\n",
      "the file to save the rescaled predictions is: D:/Li_Lab_users/fushuang/AI4Loc-master/results/2024-12-30-07LUNAR_SL_demo2-exp_npc_dmo1_predictions_rescale.csv\n"
     ]
    }
   ],
   "source": [
    "preds_array, preds_rescale_array = data_analyzer.divide_and_conquer()"
   ]
  },
  {
   "metadata": {},
   "cell_type": "markdown",
   "source": "## 5. Render the results as a super-resolution image (recommend using SMAP)"
  },
  {
   "cell_type": "code",
   "execution_count": null,
   "metadata": {},
   "outputs": [],
   "source": [
    "plt.figure()\n",
    "hist_img = ailoc.common.create_3d_hist(preds_rescale_array, \n",
    "                                       z_clip=[analyzer_param_widget.analyzer_param['loc_model'].dict_sampler_params['z_range'][0], \n",
    "                                               analyzer_param_widget.analyzer_param['loc_model'].dict_sampler_params['z_range'][1]], \n",
    "                                       pix_size=100, \n",
    "                                       sigma=5, \n",
    "                                       contrast_fac=1, \n",
    "                                       clip_density=99)\n",
    "plt.imshow(hist_img)"
   ]
  }
 ],
 "metadata": {
  "kernelspec": {
   "display_name": "ailoc",
   "language": "python",
   "name": "ailoc"
  },
  "language_info": {
   "codemirror_mode": {
    "name": "ipython",
    "version": 3
   },
   "file_extension": ".py",
   "mimetype": "text/x-python",
   "name": "python",
   "nbconvert_exporter": "python",
   "pygments_lexer": "ipython3",
   "version": "3.9.7"
  }
 },
 "nbformat": 4,
 "nbformat_minor": 4
}
