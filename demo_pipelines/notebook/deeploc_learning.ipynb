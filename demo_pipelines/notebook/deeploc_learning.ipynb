{
 "cells": [
  {
   "cell_type": "markdown",
   "metadata": {},
   "source": [
    "# DeepLoc learning notebook\n",
    "To use this notebook you don't need to interact with any code, just run cells in order and a graphical user interface will pop-up showcasing the parameters for each step."
   ]
  },
  {
   "cell_type": "code",
   "execution_count": 1,
   "metadata": {
    "pycharm": {
     "is_executing": true
    },
    "scrolled": true
   },
   "outputs": [],
   "source": [
    "import sys\n",
    "sys.path.append('../../')\n",
    "import ipywidgets as widgets\n",
    "from IPython.display import display\n",
    "import stackview\n",
    "import datetime\n",
    "\n",
    "import ailoc.deeploc\n",
    "import ailoc.common\n",
    "ailoc.common.setup_seed(42)\n",
    "\n",
    "%matplotlib inline"
   ]
  },
  {
   "cell_type": "markdown",
   "metadata": {},
   "source": [
    "## 1. Set the necessary parameters to train the network, mainly about the training data simulation"
   ]
  },
  {
   "cell_type": "code",
   "execution_count": 2,
   "metadata": {
    "scrolled": false
   },
   "outputs": [
    {
     "data": {
      "application/vnd.jupyter.widget-view+json": {
       "model_id": "a89d38cc97fd46d5ab39daa2a10af55b",
       "version_major": 2,
       "version_minor": 0
      },
      "text/plain": [
       "SelectFilesButton(description='Select the calibration file', icon='square-o', layout=Layout(height='80px', wid…"
      ]
     },
     "metadata": {},
     "output_type": "display_data"
    },
    {
     "data": {
      "application/vnd.jupyter.widget-view+json": {
       "model_id": "3876942494d4464aa51c9d0244b1303d",
       "version_major": 2,
       "version_minor": 0
      },
      "text/plain": [
       "DeepLocSetPSFParamWidget(children=(Button(description='Load from calib', layout=Layout(grid_area='widget001'),…"
      ]
     },
     "metadata": {},
     "output_type": "display_data"
    },
    {
     "data": {
      "application/vnd.jupyter.widget-view+json": {
       "model_id": "02cb1354e86f44699c2d1b360bd1ceac",
       "version_major": 2,
       "version_minor": 0
      },
      "text/plain": [
       "GridspecLayout(children=(Label(value='Camera parameters', layout=Layout(grid_area='widget001')), Dropdown(desc…"
      ]
     },
     "metadata": {},
     "output_type": "display_data"
    },
    {
     "data": {
      "application/vnd.jupyter.widget-view+json": {
       "model_id": "b19d4713cb4a4c65a8f7bdadde099bd1",
       "version_major": 2,
       "version_minor": 0
      },
      "text/plain": [
       "DeepLocSetSamplerParamWidget(children=(Label(value='Sampler parameters', layout=Layout(grid_area='widget001'))…"
      ]
     },
     "metadata": {},
     "output_type": "display_data"
    },
    {
     "data": {
      "application/vnd.jupyter.widget-view+json": {
       "model_id": "cd07411b545e4513ac74dde12363e421",
       "version_major": 2,
       "version_minor": 0
      },
      "text/plain": [
       "Button(description='OK', style=ButtonStyle())"
      ]
     },
     "metadata": {},
     "output_type": "display_data"
    },
    {
     "data": {
      "application/vnd.jupyter.widget-view+json": {
       "model_id": "47d31bca929543c1acb209e8ae0825dc",
       "version_major": 2,
       "version_minor": 0
      },
      "text/plain": [
       "Output()"
      ]
     },
     "metadata": {},
     "output_type": "display_data"
    }
   ],
   "source": [
    "deeploc_learn_param_widget = ailoc.common.DeepLocSetLearnParamWidget()\n",
    "deeploc_learn_param_widget.display_notebook_gui()"
   ]
  },
  {
   "cell_type": "markdown",
   "metadata": {},
   "source": [
    "## 2. Initialize the DeepLoc model"
   ]
  },
  {
   "cell_type": "code",
   "execution_count": 3,
   "metadata": {},
   "outputs": [
    {
     "ename": "KeyError",
     "evalue": "'bg_perlin'",
     "output_type": "error",
     "traceback": [
      "\u001b[1;31m---------------------------------------------------------------------------\u001b[0m",
      "\u001b[1;31mKeyError\u001b[0m                                  Traceback (most recent call last)",
      "Cell \u001b[1;32mIn[3], line 1\u001b[0m\n\u001b[1;32m----> 1\u001b[0m deeploc_model \u001b[38;5;241m=\u001b[39m \u001b[43mailoc\u001b[49m\u001b[38;5;241;43m.\u001b[39;49m\u001b[43mdeeploc\u001b[49m\u001b[38;5;241;43m.\u001b[39;49m\u001b[43mDeepLoc\u001b[49m\u001b[43m(\u001b[49m\u001b[43mdeeploc_learn_param_widget\u001b[49m\u001b[38;5;241;43m.\u001b[39;49m\u001b[43mdeeploc_params_dict\u001b[49m\u001b[43m[\u001b[49m\u001b[38;5;124;43m'\u001b[39;49m\u001b[38;5;124;43mpsf_params_dict\u001b[39;49m\u001b[38;5;124;43m'\u001b[39;49m\u001b[43m]\u001b[49m\u001b[43m,\u001b[49m\n\u001b[0;32m      2\u001b[0m \u001b[43m                                      \u001b[49m\u001b[43mdeeploc_learn_param_widget\u001b[49m\u001b[38;5;241;43m.\u001b[39;49m\u001b[43mdeeploc_params_dict\u001b[49m\u001b[43m[\u001b[49m\u001b[38;5;124;43m'\u001b[39;49m\u001b[38;5;124;43mcamera_params_dict\u001b[39;49m\u001b[38;5;124;43m'\u001b[39;49m\u001b[43m]\u001b[49m\u001b[43m,\u001b[49m\n\u001b[0;32m      3\u001b[0m \u001b[43m                                      \u001b[49m\u001b[43mdeeploc_learn_param_widget\u001b[49m\u001b[38;5;241;43m.\u001b[39;49m\u001b[43mdeeploc_params_dict\u001b[49m\u001b[43m[\u001b[49m\u001b[38;5;124;43m'\u001b[39;49m\u001b[38;5;124;43msampler_params_dict\u001b[39;49m\u001b[38;5;124;43m'\u001b[39;49m\u001b[43m]\u001b[49m\u001b[43m)\u001b[49m\n",
      "File \u001b[1;32mE:\\projects\\FS_work\\AI-Loc\\AI-Loc_project\\demo_pipelines\\notebook\\../..\\ailoc\\deeploc\\deeploc.py:22\u001b[0m, in \u001b[0;36mDeepLoc.__init__\u001b[1;34m(self, psf_params_dict, camera_params_dict, sampler_params_dict)\u001b[0m\n\u001b[0;32m     18\u001b[0m \u001b[38;5;28;01mdef\u001b[39;00m \u001b[38;5;21m__init__\u001b[39m(\u001b[38;5;28mself\u001b[39m, psf_params_dict, camera_params_dict, sampler_params_dict):\n\u001b[0;32m     19\u001b[0m     \u001b[38;5;28mself\u001b[39m\u001b[38;5;241m.\u001b[39mdict_psf_params, \u001b[38;5;28mself\u001b[39m\u001b[38;5;241m.\u001b[39mdict_camera_params, \u001b[38;5;28mself\u001b[39m\u001b[38;5;241m.\u001b[39mdict_sampler_params \u001b[38;5;241m=\u001b[39m \\\n\u001b[0;32m     20\u001b[0m         psf_params_dict, camera_params_dict, sampler_params_dict\n\u001b[1;32m---> 22\u001b[0m     \u001b[38;5;28mself\u001b[39m\u001b[38;5;241m.\u001b[39m_data_simulator \u001b[38;5;241m=\u001b[39m \u001b[43mailoc\u001b[49m\u001b[38;5;241;43m.\u001b[39;49m\u001b[43msimulation\u001b[49m\u001b[38;5;241;43m.\u001b[39;49m\u001b[43mSimulator\u001b[49m\u001b[43m(\u001b[49m\u001b[43mpsf_params_dict\u001b[49m\u001b[43m,\u001b[49m\u001b[43m \u001b[49m\u001b[43mcamera_params_dict\u001b[49m\u001b[43m,\u001b[49m\u001b[43m \u001b[49m\u001b[43msampler_params_dict\u001b[49m\u001b[43m)\u001b[49m\n\u001b[0;32m     23\u001b[0m     \u001b[38;5;28mself\u001b[39m\u001b[38;5;241m.\u001b[39mscale_ph_offset \u001b[38;5;241m=\u001b[39m np\u001b[38;5;241m.\u001b[39mmean(\u001b[38;5;28mself\u001b[39m\u001b[38;5;241m.\u001b[39mdict_sampler_params[\u001b[38;5;124m'\u001b[39m\u001b[38;5;124mbg_range\u001b[39m\u001b[38;5;124m'\u001b[39m])\n\u001b[0;32m     24\u001b[0m     \u001b[38;5;28mself\u001b[39m\u001b[38;5;241m.\u001b[39mscale_ph_factor \u001b[38;5;241m=\u001b[39m \u001b[38;5;28mself\u001b[39m\u001b[38;5;241m.\u001b[39mdict_sampler_params[\u001b[38;5;124m'\u001b[39m\u001b[38;5;124mphoton_range\u001b[39m\u001b[38;5;124m'\u001b[39m][\u001b[38;5;241m1\u001b[39m]\u001b[38;5;241m/\u001b[39m\u001b[38;5;241m50\u001b[39m\n",
      "File \u001b[1;32mE:\\projects\\FS_work\\AI-Loc\\AI-Loc_project\\demo_pipelines\\notebook\\../..\\ailoc\\simulation\\simulator.py:29\u001b[0m, in \u001b[0;36mSimulator.__init__\u001b[1;34m(self, psf_params, camera_params, sampler_params)\u001b[0m\n\u001b[0;32m     27\u001b[0m \u001b[38;5;28;01melif\u001b[39;00m camera_params[\u001b[38;5;124m'\u001b[39m\u001b[38;5;124mcamera_type\u001b[39m\u001b[38;5;124m'\u001b[39m]\u001b[38;5;241m.\u001b[39mupper() \u001b[38;5;241m==\u001b[39m \u001b[38;5;124m'\u001b[39m\u001b[38;5;124mSCMOS\u001b[39m\u001b[38;5;124m'\u001b[39m:\n\u001b[0;32m     28\u001b[0m     \u001b[38;5;28mself\u001b[39m\u001b[38;5;241m.\u001b[39mcamera \u001b[38;5;241m=\u001b[39m ailoc\u001b[38;5;241m.\u001b[39msimulation\u001b[38;5;241m.\u001b[39mSCMOS(camera_params)\n\u001b[1;32m---> 29\u001b[0m     \u001b[38;5;28mself\u001b[39m\u001b[38;5;241m.\u001b[39mmol_sampler \u001b[38;5;241m=\u001b[39m \u001b[43mailoc\u001b[49m\u001b[38;5;241;43m.\u001b[39;49m\u001b[43msimulation\u001b[49m\u001b[38;5;241;43m.\u001b[39;49m\u001b[43mMoleculeSampler\u001b[49m\u001b[43m(\u001b[49m\u001b[43msampler_params\u001b[49m\u001b[43m,\u001b[49m\n\u001b[0;32m     30\u001b[0m \u001b[43m                                                        \u001b[49m\u001b[38;5;28;43mself\u001b[39;49m\u001b[38;5;241;43m.\u001b[39;49m\u001b[43mpsf_model\u001b[49m\u001b[38;5;241;43m.\u001b[39;49m\u001b[43mzernike_coef_map\u001b[49m\u001b[43m,\u001b[49m\n\u001b[0;32m     31\u001b[0m \u001b[43m                                                        \u001b[49m\u001b[38;5;28;43mself\u001b[39;49m\u001b[38;5;241;43m.\u001b[39;49m\u001b[43mcamera\u001b[49m\u001b[38;5;241;43m.\u001b[39;49m\u001b[43mread_noise_map\u001b[49m\u001b[43m)\u001b[49m\n\u001b[0;32m     32\u001b[0m \u001b[38;5;28;01melif\u001b[39;00m camera_params[\u001b[38;5;124m'\u001b[39m\u001b[38;5;124mcamera_type\u001b[39m\u001b[38;5;124m'\u001b[39m]\u001b[38;5;241m.\u001b[39mupper() \u001b[38;5;241m==\u001b[39m \u001b[38;5;124m'\u001b[39m\u001b[38;5;124mIDEA\u001b[39m\u001b[38;5;124m'\u001b[39m:\n\u001b[0;32m     33\u001b[0m     \u001b[38;5;28mself\u001b[39m\u001b[38;5;241m.\u001b[39mcamera \u001b[38;5;241m=\u001b[39m ailoc\u001b[38;5;241m.\u001b[39msimulation\u001b[38;5;241m.\u001b[39mIdeaCamera()\n",
      "File \u001b[1;32mE:\\projects\\FS_work\\AI-Loc\\AI-Loc_project\\demo_pipelines\\notebook\\../..\\ailoc\\simulation\\mol_sampler.py:61\u001b[0m, in \u001b[0;36mMoleculeSampler.__init__\u001b[1;34m(self, sampler_params, aberration_map, read_noise_map)\u001b[0m\n\u001b[0;32m     58\u001b[0m \u001b[38;5;28mself\u001b[39m\u001b[38;5;241m.\u001b[39mbg_range_scaled \u001b[38;5;241m=\u001b[39m (\u001b[38;5;28mself\u001b[39m\u001b[38;5;241m.\u001b[39mbg_range[\u001b[38;5;241m0\u001b[39m] \u001b[38;5;241m/\u001b[39m \u001b[38;5;28mself\u001b[39m\u001b[38;5;241m.\u001b[39mbg_scale, \u001b[38;5;28mself\u001b[39m\u001b[38;5;241m.\u001b[39mbg_range[\u001b[38;5;241m1\u001b[39m] \u001b[38;5;241m/\u001b[39m \u001b[38;5;28mself\u001b[39m\u001b[38;5;241m.\u001b[39mbg_scale)\n\u001b[0;32m     59\u001b[0m \u001b[38;5;28;01massert\u001b[39;00m \u001b[38;5;28mself\u001b[39m\u001b[38;5;241m.\u001b[39mbg_range_scaled[\u001b[38;5;241m0\u001b[39m] \u001b[38;5;241m>\u001b[39m\u001b[38;5;241m=\u001b[39m \u001b[38;5;241m0\u001b[39m \u001b[38;5;129;01mand\u001b[39;00m \u001b[38;5;28mself\u001b[39m\u001b[38;5;241m.\u001b[39mbg_range_scaled[\u001b[38;5;241m1\u001b[39m] \u001b[38;5;241m<\u001b[39m\u001b[38;5;241m=\u001b[39m \u001b[38;5;241m1\u001b[39m, \\\n\u001b[0;32m     60\u001b[0m     \u001b[38;5;124m\"\u001b[39m\u001b[38;5;124mscaled bg range should be included in [0, 1]\u001b[39m\u001b[38;5;124m\"\u001b[39m\n\u001b[1;32m---> 61\u001b[0m \u001b[38;5;28mself\u001b[39m\u001b[38;5;241m.\u001b[39mbg_perlin \u001b[38;5;241m=\u001b[39m \u001b[43msampler_params\u001b[49m\u001b[43m[\u001b[49m\u001b[38;5;124;43m'\u001b[39;49m\u001b[38;5;124;43mbg_perlin\u001b[39;49m\u001b[38;5;124;43m'\u001b[39;49m\u001b[43m]\u001b[49m\n\u001b[0;32m     63\u001b[0m \u001b[38;5;66;03m# determine the FOV size and sliding windows provided the aberration map and read noise map\u001b[39;00m\n\u001b[0;32m     64\u001b[0m \u001b[38;5;28;01mif\u001b[39;00m aberration_map \u001b[38;5;129;01mis\u001b[39;00m \u001b[38;5;129;01mnot\u001b[39;00m \u001b[38;5;28;01mNone\u001b[39;00m \u001b[38;5;129;01mand\u001b[39;00m read_noise_map \u001b[38;5;129;01mis\u001b[39;00m \u001b[38;5;129;01mnot\u001b[39;00m \u001b[38;5;28;01mNone\u001b[39;00m:\n",
      "\u001b[1;31mKeyError\u001b[0m: 'bg_perlin'"
     ]
    }
   ],
   "source": [
    "deeploc_model = ailoc.deeploc.DeepLoc(deeploc_learn_param_widget.deeploc_params_dict['psf_params_dict'],\n",
    "                                      deeploc_learn_param_widget.deeploc_params_dict['camera_params_dict'],\n",
    "                                      deeploc_learn_param_widget.deeploc_params_dict['sampler_params_dict'])"
   ]
  },
  {
   "cell_type": "markdown",
   "metadata": {},
   "source": [
    "## 3. Check the PSF model used for training data simulation "
   ]
  },
  {
   "cell_type": "code",
   "execution_count": null,
   "metadata": {
    "scrolled": false
   },
   "outputs": [],
   "source": [
    "deeploc_model.check_training_psf()\n",
    "deeploc_model.check_training_data()"
   ]
  },
  {
   "cell_type": "markdown",
   "metadata": {},
   "source": [
    "## 4. Simulate a validation dataset to track the network performance"
   ]
  },
  {
   "cell_type": "code",
   "execution_count": 6,
   "metadata": {},
   "outputs": [
    {
     "name": "stdout",
     "output_type": "stream",
     "text": [
      "building evaluation dataset, this may take a while...\n",
      "evaluation dataset with shape torch.Size([1000, 3, 64, 64]) building done! contain 5034 target molecules, time cost: 7.28s\n"
     ]
    },
    {
     "data": {
      "application/vnd.jupyter.widget-view+json": {
       "model_id": "add2e0447f7c415fa0f2f755e1f566b3",
       "version_major": 2,
       "version_minor": 0
      },
      "text/plain": [
       "VBox(children=(HBox(children=(VBox(children=(ImageWidget(height=64, width=64),)),)), IntSlider(value=500, desc…"
      ]
     },
     "metadata": {},
     "output_type": "display_data"
    }
   ],
   "source": [
    "deeploc_model.build_evaluation_dataset(napari_plot=False)\n",
    "display(stackview.slice(deeploc_model.evaluation_dataset['data'][:,0], colormap='turbo', continuous_update=True))"
   ]
  },
  {
   "cell_type": "markdown",
   "metadata": {},
   "source": [
    "## 5. Your are ready to go training the network!"
   ]
  },
  {
   "cell_type": "code",
   "execution_count": 7,
   "metadata": {
    "scrolled": true
   },
   "outputs": [
    {
     "name": "stdout",
     "output_type": "stream",
     "text": [
      "Start training...\n",
      "training from checkpoint, the recent performance is:\n",
      "No recent performance record found\n",
      "----------------------------------------------------------------------------------------------\n",
      "evaluating...\n",
      "FOV=(0, 6400.0, 0, 6400.0), border=450, tolerance_xy=250, tolerance_z=500\n",
      "pairing localizations on 1000 images, ground truth: 3729, predictions: 3336, please waiting...\n",
      "evaluating done! time cost: 2.79s\n",
      "Iterations: 1004 || Loss: 25.65 || IterTime: 291.51 ms || ETA: 2.35 h || SumProb: 5.20 || Eff_3D: 45.49 || Jaccard: 0.80 || Recall: 0.84 || Precision: 0.94 || RMSE_lat: 42.10 || RMSE_ax: 117.79\n",
      "DeepLoc instance saved to ../../results/2023-08-31-14DeepLoc.pt\n",
      "----------------------------------------------------------------------------------------------\n",
      "evaluating...\n",
      "FOV=(0, 6400.0, 0, 6400.0), border=450, tolerance_xy=250, tolerance_z=500\n",
      "pairing localizations on 1000 images, ground truth: 3729, predictions: 3419, please waiting...\n",
      "evaluating done! time cost: 2.73s\n",
      "Iterations: 1504 || Loss: 17.33 || IterTime: 365.89 ms || ETA: 2.90 h || SumProb: 5.32 || Eff_3D: 62.30 || Jaccard: 0.85 || Recall: 0.88 || Precision: 0.96 || RMSE_lat: 37.50 || RMSE_ax: 63.75\n",
      "DeepLoc instance saved to ../../results/2023-08-31-14DeepLoc.pt\n",
      "----------------------------------------------------------------------------------------------\n",
      "evaluating...\n",
      "FOV=(0, 6400.0, 0, 6400.0), border=450, tolerance_xy=250, tolerance_z=500\n",
      "pairing localizations on 1000 images, ground truth: 3729, predictions: 3120, please waiting...\n",
      "evaluating done! time cost: 2.65s\n",
      "Iterations: 2004 || Loss: 13.20 || IterTime: 476.49 ms || ETA: 3.71 h || SumProb: 4.73 || Eff_3D: 64.52 || Jaccard: 0.80 || Recall: 0.82 || Precision: 0.98 || RMSE_lat: 32.37 || RMSE_ax: 52.39\n",
      "DeepLoc instance saved to ../../results/2023-08-31-14DeepLoc.pt\n",
      "----------------------------------------------------------------------------------------------\n",
      "evaluating...\n",
      "FOV=(0, 6400.0, 0, 6400.0), border=450, tolerance_xy=250, tolerance_z=500\n",
      "pairing localizations on 1000 images, ground truth: 3729, predictions: 3371, please waiting...\n",
      "evaluating done! time cost: 2.73s\n",
      "Iterations: 2504 || Loss: 10.15 || IterTime: 563.73 ms || ETA: 4.31 h || SumProb: 5.09 || Eff_3D: 66.52 || Jaccard: 0.85 || Recall: 0.88 || Precision: 0.97 || RMSE_lat: 31.51 || RMSE_ax: 57.16\n",
      "DeepLoc instance saved to ../../results/2023-08-31-14DeepLoc.pt\n",
      "----------------------------------------------------------------------------------------------\n",
      "evaluating...\n",
      "FOV=(0, 6400.0, 0, 6400.0), border=450, tolerance_xy=250, tolerance_z=500\n",
      "pairing localizations on 1000 images, ground truth: 3729, predictions: 3392, please waiting...\n",
      "evaluating done! time cost: 2.68s\n",
      "Iterations: 3004 || Loss: 9.03 || IterTime: 627.78 ms || ETA: 4.71 h || SumProb: 5.01 || Eff_3D: 67.90 || Jaccard: 0.87 || Recall: 0.89 || Precision: 0.98 || RMSE_lat: 28.75 || RMSE_ax: 59.64\n",
      "DeepLoc instance saved to ../../results/2023-08-31-14DeepLoc.pt\n",
      "----------------------------------------------------------------------------------------------\n",
      "evaluating...\n",
      "FOV=(0, 6400.0, 0, 6400.0), border=450, tolerance_xy=250, tolerance_z=500\n",
      "pairing localizations on 1000 images, ground truth: 3729, predictions: 3325, please waiting...\n",
      "evaluating done! time cost: 2.64s\n",
      "Iterations: 3504 || Loss: 6.56 || IterTime: 704.07 ms || ETA: 5.18 h || SumProb: 4.90 || Eff_3D: 72.72 || Jaccard: 0.88 || Recall: 0.88 || Precision: 0.99 || RMSE_lat: 27.72 || RMSE_ax: 41.36\n",
      "DeepLoc instance saved to ../../results/2023-08-31-14DeepLoc.pt\n"
     ]
    },
    {
     "ename": "KeyboardInterrupt",
     "evalue": "",
     "output_type": "error",
     "traceback": [
      "\u001b[1;31m---------------------------------------------------------------------------\u001b[0m",
      "\u001b[1;31mKeyboardInterrupt\u001b[0m                         Traceback (most recent call last)",
      "Cell \u001b[1;32mIn[7], line 2\u001b[0m\n\u001b[0;32m      1\u001b[0m file_name \u001b[38;5;241m=\u001b[39m \u001b[38;5;124m'\u001b[39m\u001b[38;5;124m../../results/\u001b[39m\u001b[38;5;124m'\u001b[39m \u001b[38;5;241m+\u001b[39m datetime\u001b[38;5;241m.\u001b[39mdatetime\u001b[38;5;241m.\u001b[39mnow()\u001b[38;5;241m.\u001b[39mstrftime(\u001b[38;5;124m'\u001b[39m\u001b[38;5;124m%\u001b[39m\u001b[38;5;124mY-\u001b[39m\u001b[38;5;124m%\u001b[39m\u001b[38;5;124mm-\u001b[39m\u001b[38;5;132;01m%d\u001b[39;00m\u001b[38;5;124m-\u001b[39m\u001b[38;5;124m%\u001b[39m\u001b[38;5;124mH\u001b[39m\u001b[38;5;124m'\u001b[39m) \u001b[38;5;241m+\u001b[39m \u001b[38;5;124m'\u001b[39m\u001b[38;5;124mDeepLoc\u001b[39m\u001b[38;5;124m'\u001b[39m\n\u001b[1;32m----> 2\u001b[0m \u001b[43mdeeploc_model\u001b[49m\u001b[38;5;241;43m.\u001b[39;49m\u001b[43monline_train\u001b[49m\u001b[43m(\u001b[49m\u001b[43mbatch_size\u001b[49m\u001b[38;5;241;43m=\u001b[39;49m\u001b[38;5;241;43m10\u001b[39;49m\u001b[43m,\u001b[49m\u001b[43m \u001b[49m\u001b[43mmax_iterations\u001b[49m\u001b[38;5;241;43m=\u001b[39;49m\u001b[38;5;241;43m30000\u001b[39;49m\u001b[43m,\u001b[49m\u001b[43m \u001b[49m\u001b[43meval_freq\u001b[49m\u001b[38;5;241;43m=\u001b[39;49m\u001b[38;5;241;43m500\u001b[39;49m\u001b[43m,\u001b[49m\u001b[43m \u001b[49m\u001b[43mfile_name\u001b[49m\u001b[38;5;241;43m=\u001b[39;49m\u001b[43mfile_name\u001b[49m\u001b[43m)\u001b[49m\n",
      "File \u001b[1;32mE:\\projects\\FS_work\\AI-Loc\\AI-Loc_project\\ailoc\\deeploc\\deeploc.py:120\u001b[0m, in \u001b[0;36mDeepLoc.online_train\u001b[1;34m(self, batch_size, max_iterations, eval_freq, file_name)\u001b[0m\n\u001b[0;32m    117\u001b[0m total_loss \u001b[38;5;241m=\u001b[39m []\n\u001b[0;32m    118\u001b[0m \u001b[38;5;28;01mfor\u001b[39;00m i \u001b[38;5;129;01min\u001b[39;00m \u001b[38;5;28mrange\u001b[39m(eval_freq):\n\u001b[0;32m    119\u001b[0m     train_data, p_map_gt, xyzph_array_gt, mask_array_gt, bg_map_gt, _ \u001b[38;5;241m=\u001b[39m \\\n\u001b[1;32m--> 120\u001b[0m         \u001b[38;5;28;43mself\u001b[39;49m\u001b[38;5;241;43m.\u001b[39;49m\u001b[43mdata_simulator\u001b[49m\u001b[38;5;241;43m.\u001b[39;49m\u001b[43msample_training_data\u001b[49m\u001b[43m(\u001b[49m\u001b[43mbatch_size\u001b[49m\u001b[38;5;241;43m=\u001b[39;49m\u001b[43mbatch_size\u001b[49m\u001b[43m,\u001b[49m\u001b[43m \u001b[49m\u001b[43miter_train\u001b[49m\u001b[38;5;241;43m=\u001b[39;49m\u001b[38;5;28;43mself\u001b[39;49m\u001b[38;5;241;43m.\u001b[39;49m\u001b[43m_iter_train\u001b[49m\u001b[43m)\u001b[49m\n\u001b[0;32m    121\u001b[0m     p_pred, xyzph_pred, xyzph_sig_pred, bg_pred \u001b[38;5;241m=\u001b[39m \u001b[38;5;28mself\u001b[39m\u001b[38;5;241m.\u001b[39minference(train_data, \u001b[38;5;28mself\u001b[39m\u001b[38;5;241m.\u001b[39mdata_simulator\u001b[38;5;241m.\u001b[39mcamera)\n\u001b[0;32m    122\u001b[0m     loss \u001b[38;5;241m=\u001b[39m \u001b[38;5;28mself\u001b[39m\u001b[38;5;241m.\u001b[39mcompute_loss(p_pred, xyzph_pred, xyzph_sig_pred, bg_pred,\n\u001b[0;32m    123\u001b[0m                              p_map_gt, xyzph_array_gt, mask_array_gt, bg_map_gt)\n",
      "File \u001b[1;32mE:\\projects\\FS_work\\AI-Loc\\AI-Loc_project\\ailoc\\simulation\\simulator.py:56\u001b[0m, in \u001b[0;36mSimulator.sample_training_data\u001b[1;34m(self, batch_size, iter_train)\u001b[0m\n\u001b[0;32m     40\u001b[0m \u001b[38;5;250m\u001b[39m\u001b[38;5;124;03m\"\"\"\u001b[39;00m\n\u001b[0;32m     41\u001b[0m \u001b[38;5;124;03mSample a batch of training data.\u001b[39;00m\n\u001b[0;32m     42\u001b[0m \n\u001b[1;32m   (...)\u001b[0m\n\u001b[0;32m     50\u001b[0m \u001b[38;5;124;03m        a batch of simulated images and corresponding ground truth\u001b[39;00m\n\u001b[0;32m     51\u001b[0m \u001b[38;5;124;03m\"\"\"\u001b[39;00m\n\u001b[0;32m     53\u001b[0m p_map_sample, xyzph_map_sample, bg_map_sample, curr_sub_fov_xy, zernike_coefs, \\\n\u001b[0;32m     54\u001b[0m p_map_gt, xyzph_array_gt, mask_array_gt \u001b[38;5;241m=\u001b[39m \u001b[38;5;28mself\u001b[39m\u001b[38;5;241m.\u001b[39mmol_sampler\u001b[38;5;241m.\u001b[39msample_for_train(batch_size, \u001b[38;5;28mself\u001b[39m\u001b[38;5;241m.\u001b[39mpsf_model, iter_train)\n\u001b[1;32m---> 56\u001b[0m data \u001b[38;5;241m=\u001b[39m \u001b[38;5;28;43mself\u001b[39;49m\u001b[38;5;241;43m.\u001b[39;49m\u001b[43mgen_noiseless_data\u001b[49m\u001b[43m(\u001b[49m\u001b[38;5;28;43mself\u001b[39;49m\u001b[38;5;241;43m.\u001b[39;49m\u001b[43mpsf_model\u001b[49m\u001b[43m,\u001b[49m\u001b[43m \u001b[49m\u001b[43mp_map_sample\u001b[49m\u001b[43m,\u001b[49m\u001b[43m \u001b[49m\u001b[43mxyzph_map_sample\u001b[49m\u001b[43m,\u001b[49m\u001b[43m \u001b[49m\u001b[43mbg_map_sample\u001b[49m\u001b[43m,\u001b[49m\u001b[43m \u001b[49m\u001b[43mzernike_coefs\u001b[49m\u001b[43m)\u001b[49m\n\u001b[0;32m     58\u001b[0m data_cam \u001b[38;5;241m=\u001b[39m \u001b[38;5;28mself\u001b[39m\u001b[38;5;241m.\u001b[39mcamera\u001b[38;5;241m.\u001b[39mforward(data, curr_sub_fov_xy) \\\n\u001b[0;32m     59\u001b[0m     \u001b[38;5;28;01mif\u001b[39;00m \u001b[38;5;28misinstance\u001b[39m(\u001b[38;5;28mself\u001b[39m\u001b[38;5;241m.\u001b[39mcamera, ailoc\u001b[38;5;241m.\u001b[39msimulation\u001b[38;5;241m.\u001b[39mSCMOS) \u001b[38;5;28;01melse\u001b[39;00m \u001b[38;5;28mself\u001b[39m\u001b[38;5;241m.\u001b[39mcamera\u001b[38;5;241m.\u001b[39mforward(data)\n\u001b[0;32m     61\u001b[0m \u001b[38;5;28;01mreturn\u001b[39;00m data_cam, p_map_gt, xyzph_array_gt, mask_array_gt, bg_map_sample, curr_sub_fov_xy\n",
      "File \u001b[1;32mE:\\projects\\FS_work\\AI-Loc\\AI-Loc_project\\ailoc\\simulation\\simulator.py:111\u001b[0m, in \u001b[0;36mSimulator.gen_noiseless_data\u001b[1;34m(self, psf_model, delta_map, xyzph_map, bg, zernike_coefs)\u001b[0m\n\u001b[0;32m    107\u001b[0m bg \u001b[38;5;241m=\u001b[39m torch\u001b[38;5;241m.\u001b[39mreshape(bg, [batch_size, \u001b[38;5;241m1\u001b[39m, height, width])\u001b[38;5;241m.\u001b[39mrepeat(\u001b[38;5;241m1\u001b[39m, channels, \u001b[38;5;241m1\u001b[39m, \u001b[38;5;241m1\u001b[39m)\u001b[38;5;241m*\u001b[39m\u001b[38;5;28mself\u001b[39m\u001b[38;5;241m.\u001b[39mmol_sampler\u001b[38;5;241m.\u001b[39mbg_scale\n\u001b[0;32m    109\u001b[0m x,y,z,photons \u001b[38;5;241m=\u001b[39m \u001b[38;5;28mself\u001b[39m\u001b[38;5;241m.\u001b[39m_translate_maps(delta_map\u001b[38;5;241m.\u001b[39mreshape([\u001b[38;5;241m-\u001b[39m\u001b[38;5;241m1\u001b[39m, height, width]), xyzph_map\u001b[38;5;241m.\u001b[39mreshape([\u001b[38;5;241m4\u001b[39m, \u001b[38;5;241m-\u001b[39m\u001b[38;5;241m1\u001b[39m, height, width]))\n\u001b[1;32m--> 111\u001b[0m psf_patches \u001b[38;5;241m=\u001b[39m \u001b[43mpsf_model\u001b[49m\u001b[38;5;241;43m.\u001b[39;49m\u001b[43msimulate\u001b[49m\u001b[43m(\u001b[49m\u001b[43mx\u001b[49m\u001b[43m,\u001b[49m\u001b[43m \u001b[49m\u001b[43my\u001b[49m\u001b[43m,\u001b[49m\u001b[43m \u001b[49m\u001b[43mz\u001b[49m\u001b[43m,\u001b[49m\u001b[43m \u001b[49m\u001b[43mphotons\u001b[49m\u001b[43m,\u001b[49m\u001b[43m \u001b[49m\u001b[43mzernike_coefs\u001b[49m\u001b[43m)\u001b[49m \\\n\u001b[0;32m    112\u001b[0m     \u001b[38;5;28;01mif\u001b[39;00m zernike_coefs \u001b[38;5;129;01mis\u001b[39;00m \u001b[38;5;129;01mnot\u001b[39;00m \u001b[38;5;28;01mNone\u001b[39;00m \u001b[38;5;28;01melse\u001b[39;00m psf_model\u001b[38;5;241m.\u001b[39msimulate(x, y, z, photons)\n\u001b[0;32m    114\u001b[0m raw_data \u001b[38;5;241m=\u001b[39m \u001b[38;5;28mself\u001b[39m\u001b[38;5;241m.\u001b[39mplace_psfs(delta_map\u001b[38;5;241m.\u001b[39mreshape([\u001b[38;5;241m-\u001b[39m\u001b[38;5;241m1\u001b[39m, height, width]), psf_patches) \u001b[38;5;241m+\u001b[39m bg\u001b[38;5;241m.\u001b[39mreshape([\u001b[38;5;241m-\u001b[39m\u001b[38;5;241m1\u001b[39m, height, width])\n\u001b[0;32m    116\u001b[0m \u001b[38;5;28;01mreturn\u001b[39;00m torch\u001b[38;5;241m.\u001b[39mreshape(raw_data, [batch_size, channels, height, width])\n",
      "File \u001b[1;32mE:\\projects\\FS_work\\AI-Loc\\AI-Loc_project\\ailoc\\simulation\\vectorpsf.py:220\u001b[0m, in \u001b[0;36mVectorPSFCUDA.simulate\u001b[1;34m(self, x, y, z, photons, zernike_coefs)\u001b[0m\n\u001b[0;32m    217\u001b[0m param_struct\u001b[38;5;241m.\u001b[39maberrationOut_ \u001b[38;5;241m=\u001b[39m outpupil_buffer\u001b[38;5;241m.\u001b[39mctypes\u001b[38;5;241m.\u001b[39mdata_as(ctypes\u001b[38;5;241m.\u001b[39mPOINTER(ctypes\u001b[38;5;241m.\u001b[39mc_float))\n\u001b[0;32m    219\u001b[0m \u001b[38;5;66;03m# run simulation\u001b[39;00m\n\u001b[1;32m--> 220\u001b[0m \u001b[43mpsf_dll\u001b[49m\u001b[38;5;241;43m.\u001b[39;49m\u001b[43mvectorPSFF1\u001b[49m\u001b[43m(\u001b[49m\u001b[43mparam_struct\u001b[49m\u001b[43m)\u001b[49m\n\u001b[0;32m    222\u001b[0m \u001b[38;5;66;03m# check nan in the output PSFs\u001b[39;00m\n\u001b[0;32m    223\u001b[0m \u001b[38;5;28;01massert\u001b[39;00m \u001b[38;5;129;01mnot\u001b[39;00m np\u001b[38;5;241m.\u001b[39misnan(outdata_buffer)\u001b[38;5;241m.\u001b[39many(), \u001b[38;5;124m\"\u001b[39m\u001b[38;5;124mnan in the gpu psf, something wrong about the .dll call\u001b[39m\u001b[38;5;124m\"\u001b[39m\n",
      "\u001b[1;31mKeyboardInterrupt\u001b[0m: "
     ]
    }
   ],
   "source": [
    "file_name = '../../results/' + datetime.datetime.now().strftime('%Y-%m-%d-%H') + 'DeepLoc'\n",
    "deeploc_model.online_train(batch_size=10, max_iterations=30000, eval_freq=500, file_name=file_name)"
   ]
  },
  {
   "cell_type": "code",
   "execution_count": null,
   "metadata": {},
   "outputs": [],
   "source": []
  }
 ],
 "metadata": {
  "kernelspec": {
   "display_name": "Python 3 (ipykernel)",
   "language": "python",
   "name": "python3"
  },
  "language_info": {
   "codemirror_mode": {
    "name": "ipython",
    "version": 3
   },
   "file_extension": ".py",
   "mimetype": "text/x-python",
   "name": "python",
   "nbconvert_exporter": "python",
   "pygments_lexer": "ipython3",
   "version": "3.9.7"
  }
 },
 "nbformat": 4,
 "nbformat_minor": 1
}
