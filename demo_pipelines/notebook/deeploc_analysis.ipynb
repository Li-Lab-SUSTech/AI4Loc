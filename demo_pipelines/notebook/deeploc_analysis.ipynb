{
 "cells": [
  {
   "cell_type": "code",
   "execution_count": 1,
   "metadata": {
    "pycharm": {
     "is_executing": true
    }
   },
   "outputs": [],
   "source": [
    "import sys\n",
    "sys.path.append('../../')\n",
    "import ipywidgets as widgets\n",
    "from IPython.display import display\n",
    "import stackview\n",
    "import datetime\n",
    "\n",
    "import ailoc.deeploc\n",
    "import ailoc.common\n",
    "ailoc.common.setup_seed(42)\n",
    "\n",
    "%matplotlib inline"
   ]
  },
  {
   "cell_type": "markdown",
   "metadata": {},
   "source": [
    "## 1. Set the paths of DeepLoc model, images, predictions and analyzer parameters. "
   ]
  },
  {
   "cell_type": "code",
   "execution_count": 2,
   "metadata": {
    "scrolled": false
   },
   "outputs": [
    {
     "data": {
      "application/vnd.jupyter.widget-view+json": {
       "model_id": "31f57c76fb4e443b95a86be8163a7fe5",
       "version_major": 2,
       "version_minor": 0
      },
      "text/plain": [
       "SelectFilesButton(description='Select DeepLoc model', icon='square-o', layout=Layout(height='80px', width='100…"
      ]
     },
     "metadata": {},
     "output_type": "display_data"
    },
    {
     "data": {
      "application/vnd.jupyter.widget-view+json": {
       "model_id": "2eb3d9870abc4501bb3170695858c3a2",
       "version_major": 2,
       "version_minor": 0
      },
      "text/plain": [
       "Checkbox(value=True, description='Select all tiff files under the folder', indent=False)"
      ]
     },
     "metadata": {},
     "output_type": "display_data"
    },
    {
     "data": {
      "application/vnd.jupyter.widget-view+json": {
       "model_id": "b05c9363b9e24cb685b44f04ecfa634b",
       "version_major": 2,
       "version_minor": 0
      },
      "text/plain": [
       "SelectFilesButton(description='Select tiff file', icon='square-o', layout=Layout(height='80px', width='100%'),…"
      ]
     },
     "metadata": {},
     "output_type": "display_data"
    },
    {
     "data": {
      "application/vnd.jupyter.widget-view+json": {
       "model_id": "d4796c2f18764c0d82b5210dd5a0a623",
       "version_major": 2,
       "version_minor": 0
      },
      "text/plain": [
       "SaveFilesButton(description='Save predicted CSV', icon='square-o', layout=Layout(height='80px', width='100%'),…"
      ]
     },
     "metadata": {},
     "output_type": "display_data"
    },
    {
     "data": {
      "application/vnd.jupyter.widget-view+json": {
       "model_id": "48bf2cfac4114ae398a53dc31de04267",
       "version_major": 2,
       "version_minor": 0
      },
      "text/plain": [
       "GridspecLayout(children=(BoundedIntText(value=1, description='Block(GB)', layout=Layout(grid_area='widget001')…"
      ]
     },
     "metadata": {},
     "output_type": "display_data"
    },
    {
     "data": {
      "application/vnd.jupyter.widget-view+json": {
       "model_id": "f8579589b15f460590205cdf20b44686",
       "version_major": 2,
       "version_minor": 0
      },
      "text/plain": [
       "Button(description='OK', style=ButtonStyle())"
      ]
     },
     "metadata": {},
     "output_type": "display_data"
    },
    {
     "data": {
      "application/vnd.jupyter.widget-view+json": {
       "model_id": "b3c4406be36640ab907aef96527bec8f",
       "version_major": 2,
       "version_minor": 0
      },
      "text/plain": [
       "Output()"
      ]
     },
     "metadata": {},
     "output_type": "display_data"
    }
   ],
   "source": [
    "deeploc_analyzer_param_widget = ailoc.common.DeepLocSetAnalyzerParamWidget()\n",
    "deeploc_analyzer_param_widget.display_notebook_gui()"
   ]
  },
  {
   "cell_type": "markdown",
   "metadata": {},
   "source": [
    "## 2. Run the code cell to initialize the DeepLoc analyzer"
   ]
  },
  {
   "cell_type": "code",
   "execution_count": 3,
   "metadata": {
    "scrolled": true
   },
   "outputs": [
    {
     "name": "stderr",
     "output_type": "stream",
     "text": [
      "<tifffile.TiffTag 270 @491320> coercing invalid ASCII to bytes, due to UnicodeDecodeError('charmap', b'\\x83\\x00\\x90\\x00\\x83\\x00\\x8b\\x00\\x80\\x00\\x93\\x00x\\x00x\\x00\\x81\\x00\\x86\\x00\\x81\\x00\\xa9\\x00\\x8c\\x00\\x8d\\x00\\x8d\\x00\\x8d\\x00\\x8a\\x00\\x86\\x00~\\x00\\x92\\x00\\x88\\x00\\x84\\x00\\x8a\\x00\\x97\\x00\\x8a\\x00\\x8c\\x00\\x88\\x00\\x86\\x00\\x83\\x00\\x89\\x00~\\x00\\x8c\\x00\\x80\\x00{\\x00\\x87\\x00\\x95\\x00\\x8a\\x00\\x88\\x00\\x90\\x00\\x94', 2, 3, 'character maps to <undefined>')\n"
     ]
    },
    {
     "name": "stdout",
     "output_type": "stream",
     "text": [
      "the file to save the predictions is: E:/projects/FS_work/AI-Loc/AI-Loc_project/results/2023-10-18-16DeepLoc_NPC_NUP96_SNAP647_DMO_6um_defoucs_0_20ms_3_predictions.csv\n"
     ]
    },
    {
     "name": "stderr",
     "output_type": "stream",
     "text": [
      "<tifffile.TiffTag 270 @491320> coercing invalid ASCII to bytes, due to UnicodeDecodeError('charmap', b'\\x00\\x83\\x00~\\x00\\x8b\\x00\\x8f\\x00\\x86\\x00\\x86\\x00\\x90\\x00\\x81\\x00\\x91\\x00\\x8a\\x00\\x8d\\x00\\x87\\x00\\x8d\\x00\\x89\\x00\\x84\\x00\\x86\\x00\\x8c\\x00\\x95\\x00\\x9a\\x00\\x8b\\x00\\x91\\x00\\x88\\x00\\x82\\x00\\x84\\x00\\x7f\\x00\\x8d\\x00\\x8c\\x00\\x8d\\x00\\x8c\\x00\\x84\\x00\\x8a\\x00\\x8e\\x00}\\x00\\x93\\x00\\x87\\x00\\x96\\x00\\x86\\x00\\x91\\x00\\x92', 7, 8, 'character maps to <undefined>')\n",
      "<tifffile.TiffTag 270 @491320> coercing invalid ASCII to bytes, due to UnicodeDecodeError('charmap', b'\\x00x\\x00{\\x00\\x8a\\x00\\x89\\x00\\x88\\x00\\x81\\x00\\x89\\x00\\x8a\\x00\\x8b\\x00~\\x00\\x91\\x00\\x89\\x00\\x8a\\x00\\x87\\x00\\x80\\x00\\x9d\\x00\\x91\\x00\\x8a\\x00~\\x00\\x8d\\x00\\x8c\\x00\\x93\\x00\\x97\\x00\\x8e\\x00\\x8e\\x00\\x87\\x00\\x86\\x00\\x90\\x00\\x89\\x00\\x92\\x00\\x8b\\x00\\x8b\\x00\\x8a\\x00\\x83\\x00\\x8a\\x00\\x83\\x00\\x86\\x00\\x8c\\x00\\x8b', 11, 12, 'character maps to <undefined>')\n",
      "<tifffile.TiffTag 270 @491320> coercing invalid ASCII to bytes, due to UnicodeDecodeError('charmap', b'\\x00\\x85\\x00\\x8a\\x00\\x8d\\x00\\x92\\x00\\x83\\x00\\x83\\x00{\\x00\\x86\\x00\\x80\\x00\\x82\\x00\\x7f\\x00\\x97\\x00\\x90\\x00\\x85\\x00\\x8d\\x00\\x89\\x00\\x88\\x00\\x86\\x00\\x88\\x00\\x88\\x00\\x87\\x00\\x8b\\x00\\x84\\x00\\x93\\x00\\x83\\x00}\\x00\\x92\\x00\\x82\\x00\\x89\\x00\\x8a\\x00\\x88\\x00{\\x00\\x8c\\x00\\x8b\\x00}\\x00\\x83\\x00}\\x00{\\x00\\x80', 5, 6, 'character maps to <undefined>')\n",
      "<tifffile.TiffTag 270 @491320> coercing invalid ASCII to bytes, due to UnicodeDecodeError('charmap', b'\\x83\\x00\\x90\\x00\\x83\\x00\\x8b\\x00\\x80\\x00\\x93\\x00x\\x00x\\x00\\x81\\x00\\x86\\x00\\x81\\x00\\xa9\\x00\\x8c\\x00\\x8d\\x00\\x8d\\x00\\x8d\\x00\\x8a\\x00\\x86\\x00~\\x00\\x92\\x00\\x88\\x00\\x84\\x00\\x8a\\x00\\x97\\x00\\x8a\\x00\\x8c\\x00\\x88\\x00\\x86\\x00\\x83\\x00\\x89\\x00~\\x00\\x8c\\x00\\x80\\x00{\\x00\\x87\\x00\\x95\\x00\\x8a\\x00\\x88\\x00\\x90\\x00\\x94', 2, 3, 'character maps to <undefined>')\n",
      "<tifffile.TiffTag 270 @491320> coercing invalid ASCII to bytes, due to UnicodeDecodeError('charmap', b'\\x00\\x83\\x00~\\x00\\x8b\\x00\\x8f\\x00\\x86\\x00\\x86\\x00\\x90\\x00\\x81\\x00\\x91\\x00\\x8a\\x00\\x8d\\x00\\x87\\x00\\x8d\\x00\\x89\\x00\\x84\\x00\\x86\\x00\\x8c\\x00\\x95\\x00\\x9a\\x00\\x8b\\x00\\x91\\x00\\x88\\x00\\x82\\x00\\x84\\x00\\x7f\\x00\\x8d\\x00\\x8c\\x00\\x8d\\x00\\x8c\\x00\\x84\\x00\\x8a\\x00\\x8e\\x00}\\x00\\x93\\x00\\x87\\x00\\x96\\x00\\x86\\x00\\x91\\x00\\x92', 7, 8, 'character maps to <undefined>')\n",
      "<tifffile.TiffTag 270 @491320> coercing invalid ASCII to bytes, due to UnicodeDecodeError('charmap', b'\\x00x\\x00{\\x00\\x8a\\x00\\x89\\x00\\x88\\x00\\x81\\x00\\x89\\x00\\x8a\\x00\\x8b\\x00~\\x00\\x91\\x00\\x89\\x00\\x8a\\x00\\x87\\x00\\x80\\x00\\x9d\\x00\\x91\\x00\\x8a\\x00~\\x00\\x8d\\x00\\x8c\\x00\\x93\\x00\\x97\\x00\\x8e\\x00\\x8e\\x00\\x87\\x00\\x86\\x00\\x90\\x00\\x89\\x00\\x92\\x00\\x8b\\x00\\x8b\\x00\\x8a\\x00\\x83\\x00\\x8a\\x00\\x83\\x00\\x86\\x00\\x8c\\x00\\x8b', 11, 12, 'character maps to <undefined>')\n",
      "<tifffile.TiffTag 270 @491320> coercing invalid ASCII to bytes, due to UnicodeDecodeError('charmap', b'\\x00\\x85\\x00\\x8a\\x00\\x8d\\x00\\x92\\x00\\x83\\x00\\x83\\x00{\\x00\\x86\\x00\\x80\\x00\\x82\\x00\\x7f\\x00\\x97\\x00\\x90\\x00\\x85\\x00\\x8d\\x00\\x89\\x00\\x88\\x00\\x86\\x00\\x88\\x00\\x88\\x00\\x87\\x00\\x8b\\x00\\x84\\x00\\x93\\x00\\x83\\x00}\\x00\\x92\\x00\\x82\\x00\\x89\\x00\\x8a\\x00\\x88\\x00{\\x00\\x8c\\x00\\x8b\\x00}\\x00\\x83\\x00}\\x00{\\x00\\x80', 5, 6, 'character maps to <undefined>')\n"
     ]
    },
    {
     "name": "stdout",
     "output_type": "stream",
     "text": [
      "frame ranges || filename: \n",
      "[0-22344] || E:\\projects\\FS_work\\AI-Loc\\AI-Loc_project\\datasets\\fy_npc6um_1\\NPC_NUP96_SNAP647_DMO_6um_defoucs_0_20ms_3\\NPC_NUP96_SNAP647_DMO_6um_defoucs_0_20ms_3_MMStack_Pos0.ome.tif\n",
      "[22345-44688] || E:\\projects\\FS_work\\AI-Loc\\AI-Loc_project\\datasets\\fy_npc6um_1\\NPC_NUP96_SNAP647_DMO_6um_defoucs_0_20ms_3\\NPC_NUP96_SNAP647_DMO_6um_defoucs_0_20ms_3_MMStack_Pos0_1.ome.tif\n",
      "[44689-67032] || E:\\projects\\FS_work\\AI-Loc\\AI-Loc_project\\datasets\\fy_npc6um_1\\NPC_NUP96_SNAP647_DMO_6um_defoucs_0_20ms_3\\NPC_NUP96_SNAP647_DMO_6um_defoucs_0_20ms_3_MMStack_Pos0_2.ome.tif\n",
      "[67033-89376] || E:\\projects\\FS_work\\AI-Loc\\AI-Loc_project\\datasets\\fy_npc6um_1\\NPC_NUP96_SNAP647_DMO_6um_defoucs_0_20ms_3\\NPC_NUP96_SNAP647_DMO_6um_defoucs_0_20ms_3_MMStack_Pos0_3.ome.tif\n",
      "[89377-99999] || E:\\projects\\FS_work\\AI-Loc\\AI-Loc_project\\datasets\\fy_npc6um_1\\NPC_NUP96_SNAP647_DMO_6um_defoucs_0_20ms_3\\NPC_NUP96_SNAP647_DMO_6um_defoucs_0_20ms_3_MMStack_Pos0_4.ome.tif\n"
     ]
    }
   ],
   "source": [
    "deeploc_analyzer = ailoc.common.SmlmDataAnalyzer(loc_model=deeploc_analyzer_param_widget.analyzer_param['deeploc_model'],\n",
    "                                                 tiff_path=deeploc_analyzer_param_widget.analyzer_param['tiff_path'],\n",
    "                                                 output_path=deeploc_analyzer_param_widget.analyzer_param['output_path'],\n",
    "                                                 time_block_gb=deeploc_analyzer_param_widget.analyzer_param['time_block_gb'],\n",
    "                                                 batch_size=deeploc_analyzer_param_widget.analyzer_param['batch_size'],\n",
    "                                                 sub_fov_size=deeploc_analyzer_param_widget.analyzer_param['sub_fov_size'],\n",
    "                                                 over_cut=deeploc_analyzer_param_widget.analyzer_param['over_cut'],\n",
    "                                                 num_workers=deeploc_analyzer_param_widget.analyzer_param['num_workers'])"
   ]
  },
  {
   "cell_type": "markdown",
   "metadata": {},
   "source": [
    "## 3. Check the output of a specific frame"
   ]
  },
  {
   "cell_type": "code",
   "execution_count": 4,
   "metadata": {
    "scrolled": false
   },
   "outputs": [
    {
     "data": {
      "application/vnd.jupyter.widget-view+json": {
       "model_id": "edae741e64e3451791f844b20cbd1875",
       "version_major": 2,
       "version_minor": 0
      },
      "text/plain": [
       "VBox(children=(HBox(children=(Label(value='Input the frame number:'), BoundedIntText(value=0, max=99999))), Ou…"
      ]
     },
     "metadata": {},
     "output_type": "display_data"
    }
   ],
   "source": [
    "frame_num_widget = widgets.HBox([widgets.Label(value='Input the frame number:'), widgets.BoundedIntText(value=0, min=0, max=deeploc_analyzer.tiff_dataset.sum_file_length-1, step=1,)])\n",
    "out = widgets.interactive_output(deeploc_analyzer.check_single_frame_output, {'frame_num': frame_num_widget.children[1]})\n",
    "\n",
    "display(widgets.VBox([frame_num_widget, out]))"
   ]
  },
  {
   "cell_type": "markdown",
   "metadata": {},
   "source": [
    "## 4. Run the code cell to analyze the data  "
   ]
  },
  {
   "cell_type": "code",
   "execution_count": 5,
   "metadata": {
    "scrolled": true
   },
   "outputs": [
    {
     "name": "stderr",
     "output_type": "stream",
     "text": [
      "<tifffile.TiffTag 270 @491320> coercing invalid ASCII to bytes, due to UnicodeDecodeError('charmap', b'\\x83\\x00\\x90\\x00\\x83\\x00\\x8b\\x00\\x80\\x00\\x93\\x00x\\x00x\\x00\\x81\\x00\\x86\\x00\\x81\\x00\\xa9\\x00\\x8c\\x00\\x8d\\x00\\x8d\\x00\\x8d\\x00\\x8a\\x00\\x86\\x00~\\x00\\x92\\x00\\x88\\x00\\x84\\x00\\x8a\\x00\\x97\\x00\\x8a\\x00\\x8c\\x00\\x88\\x00\\x86\\x00\\x83\\x00\\x89\\x00~\\x00\\x8c\\x00\\x80\\x00{\\x00\\x87\\x00\\x95\\x00\\x8a\\x00\\x88\\x00\\x90\\x00\\x94', 2, 3, 'character maps to <undefined>')\n"
     ]
    },
    {
     "name": "stdout",
     "output_type": "stream",
     "text": [
      "Analyzing block: 1/17, contain frames: 6128, already analyzed: 0/100000, ETA: inf min\n",
      "Processing sub-FOV: 4/4, (240, 295, 240, 295), keep molecules in: (256, 295, 256, 295), loc model: <class 'ailoc.deeploc.deeploc.DeepLoc'>\n"
     ]
    },
    {
     "name": "stderr",
     "output_type": "stream",
     "text": [
      "<tifffile.TiffTag 270 @491320> coercing invalid ASCII to bytes, due to UnicodeDecodeError('charmap', b'\\x83\\x00\\x90\\x00\\x83\\x00\\x8b\\x00\\x80\\x00\\x93\\x00x\\x00x\\x00\\x81\\x00\\x86\\x00\\x81\\x00\\xa9\\x00\\x8c\\x00\\x8d\\x00\\x8d\\x00\\x8d\\x00\\x8a\\x00\\x86\\x00~\\x00\\x92\\x00\\x88\\x00\\x84\\x00\\x8a\\x00\\x97\\x00\\x8a\\x00\\x8c\\x00\\x88\\x00\\x86\\x00\\x83\\x00\\x89\\x00~\\x00\\x8c\\x00\\x80\\x00{\\x00\\x87\\x00\\x95\\x00\\x8a\\x00\\x88\\x00\\x90\\x00\\x94', 2, 3, 'character maps to <undefined>')\n"
     ]
    },
    {
     "name": "stdout",
     "output_type": "stream",
     "text": [
      "Analyzing block: 2/17, contain frames: 6128, already analyzed: 6128/100000, ETA: 43.39 min\n",
      "Processing sub-FOV: 4/4, (240, 295, 240, 295), keep molecules in: (256, 295, 256, 295), loc model: <class 'ailoc.deeploc.deeploc.DeepLoc'>\n"
     ]
    },
    {
     "name": "stderr",
     "output_type": "stream",
     "text": [
      "<tifffile.TiffTag 270 @491320> coercing invalid ASCII to bytes, due to UnicodeDecodeError('charmap', b'\\x83\\x00\\x90\\x00\\x83\\x00\\x8b\\x00\\x80\\x00\\x93\\x00x\\x00x\\x00\\x81\\x00\\x86\\x00\\x81\\x00\\xa9\\x00\\x8c\\x00\\x8d\\x00\\x8d\\x00\\x8d\\x00\\x8a\\x00\\x86\\x00~\\x00\\x92\\x00\\x88\\x00\\x84\\x00\\x8a\\x00\\x97\\x00\\x8a\\x00\\x8c\\x00\\x88\\x00\\x86\\x00\\x83\\x00\\x89\\x00~\\x00\\x8c\\x00\\x80\\x00{\\x00\\x87\\x00\\x95\\x00\\x8a\\x00\\x88\\x00\\x90\\x00\\x94', 2, 3, 'character maps to <undefined>')\n"
     ]
    },
    {
     "name": "stdout",
     "output_type": "stream",
     "text": [
      "Analyzing block: 3/17, contain frames: 6128, already analyzed: 12256/100000, ETA: 38.29 min\n",
      "Processing sub-FOV: 4/4, (240, 295, 240, 295), keep molecules in: (256, 295, 256, 295), loc model: <class 'ailoc.deeploc.deeploc.DeepLoc'>\n"
     ]
    },
    {
     "name": "stderr",
     "output_type": "stream",
     "text": [
      "<tifffile.TiffTag 270 @491320> coercing invalid ASCII to bytes, due to UnicodeDecodeError('charmap', b'\\x83\\x00\\x90\\x00\\x83\\x00\\x8b\\x00\\x80\\x00\\x93\\x00x\\x00x\\x00\\x81\\x00\\x86\\x00\\x81\\x00\\xa9\\x00\\x8c\\x00\\x8d\\x00\\x8d\\x00\\x8d\\x00\\x8a\\x00\\x86\\x00~\\x00\\x92\\x00\\x88\\x00\\x84\\x00\\x8a\\x00\\x97\\x00\\x8a\\x00\\x8c\\x00\\x88\\x00\\x86\\x00\\x83\\x00\\x89\\x00~\\x00\\x8c\\x00\\x80\\x00{\\x00\\x87\\x00\\x95\\x00\\x8a\\x00\\x88\\x00\\x90\\x00\\x94', 2, 3, 'character maps to <undefined>')\n",
      "<tifffile.TiffTag 270 @491320> coercing invalid ASCII to bytes, due to UnicodeDecodeError('charmap', b'\\x00\\x83\\x00~\\x00\\x8b\\x00\\x8f\\x00\\x86\\x00\\x86\\x00\\x90\\x00\\x81\\x00\\x91\\x00\\x8a\\x00\\x8d\\x00\\x87\\x00\\x8d\\x00\\x89\\x00\\x84\\x00\\x86\\x00\\x8c\\x00\\x95\\x00\\x9a\\x00\\x8b\\x00\\x91\\x00\\x88\\x00\\x82\\x00\\x84\\x00\\x7f\\x00\\x8d\\x00\\x8c\\x00\\x8d\\x00\\x8c\\x00\\x84\\x00\\x8a\\x00\\x8e\\x00}\\x00\\x93\\x00\\x87\\x00\\x96\\x00\\x86\\x00\\x91\\x00\\x92', 7, 8, 'character maps to <undefined>')\n"
     ]
    },
    {
     "name": "stdout",
     "output_type": "stream",
     "text": [
      "Analyzing block: 4/17, contain frames: 6128, already analyzed: 18384/100000, ETA: 34.40 min\n",
      "Processing sub-FOV: 4/4, (240, 295, 240, 295), keep molecules in: (256, 295, 256, 295), loc model: <class 'ailoc.deeploc.deeploc.DeepLoc'>\n"
     ]
    },
    {
     "name": "stderr",
     "output_type": "stream",
     "text": [
      "<tifffile.TiffTag 270 @491320> coercing invalid ASCII to bytes, due to UnicodeDecodeError('charmap', b'\\x00\\x83\\x00~\\x00\\x8b\\x00\\x8f\\x00\\x86\\x00\\x86\\x00\\x90\\x00\\x81\\x00\\x91\\x00\\x8a\\x00\\x8d\\x00\\x87\\x00\\x8d\\x00\\x89\\x00\\x84\\x00\\x86\\x00\\x8c\\x00\\x95\\x00\\x9a\\x00\\x8b\\x00\\x91\\x00\\x88\\x00\\x82\\x00\\x84\\x00\\x7f\\x00\\x8d\\x00\\x8c\\x00\\x8d\\x00\\x8c\\x00\\x84\\x00\\x8a\\x00\\x8e\\x00}\\x00\\x93\\x00\\x87\\x00\\x96\\x00\\x86\\x00\\x91\\x00\\x92', 7, 8, 'character maps to <undefined>')\n"
     ]
    },
    {
     "name": "stdout",
     "output_type": "stream",
     "text": [
      "Analyzing block: 5/17, contain frames: 6128, already analyzed: 24512/100000, ETA: 31.73 min\n",
      "Processing sub-FOV: 4/4, (240, 295, 240, 295), keep molecules in: (256, 295, 256, 295), loc model: <class 'ailoc.deeploc.deeploc.DeepLoc'>\n"
     ]
    },
    {
     "name": "stderr",
     "output_type": "stream",
     "text": [
      "<tifffile.TiffTag 270 @491320> coercing invalid ASCII to bytes, due to UnicodeDecodeError('charmap', b'\\x00\\x83\\x00~\\x00\\x8b\\x00\\x8f\\x00\\x86\\x00\\x86\\x00\\x90\\x00\\x81\\x00\\x91\\x00\\x8a\\x00\\x8d\\x00\\x87\\x00\\x8d\\x00\\x89\\x00\\x84\\x00\\x86\\x00\\x8c\\x00\\x95\\x00\\x9a\\x00\\x8b\\x00\\x91\\x00\\x88\\x00\\x82\\x00\\x84\\x00\\x7f\\x00\\x8d\\x00\\x8c\\x00\\x8d\\x00\\x8c\\x00\\x84\\x00\\x8a\\x00\\x8e\\x00}\\x00\\x93\\x00\\x87\\x00\\x96\\x00\\x86\\x00\\x91\\x00\\x92', 7, 8, 'character maps to <undefined>')\n"
     ]
    },
    {
     "name": "stdout",
     "output_type": "stream",
     "text": [
      "Analyzing block: 6/17, contain frames: 6128, already analyzed: 30640/100000, ETA: 29.19 min\n",
      "Processing sub-FOV: 4/4, (240, 295, 240, 295), keep molecules in: (256, 295, 256, 295), loc model: <class 'ailoc.deeploc.deeploc.DeepLoc'>\n"
     ]
    },
    {
     "name": "stderr",
     "output_type": "stream",
     "text": [
      "<tifffile.TiffTag 270 @491320> coercing invalid ASCII to bytes, due to UnicodeDecodeError('charmap', b'\\x00\\x83\\x00~\\x00\\x8b\\x00\\x8f\\x00\\x86\\x00\\x86\\x00\\x90\\x00\\x81\\x00\\x91\\x00\\x8a\\x00\\x8d\\x00\\x87\\x00\\x8d\\x00\\x89\\x00\\x84\\x00\\x86\\x00\\x8c\\x00\\x95\\x00\\x9a\\x00\\x8b\\x00\\x91\\x00\\x88\\x00\\x82\\x00\\x84\\x00\\x7f\\x00\\x8d\\x00\\x8c\\x00\\x8d\\x00\\x8c\\x00\\x84\\x00\\x8a\\x00\\x8e\\x00}\\x00\\x93\\x00\\x87\\x00\\x96\\x00\\x86\\x00\\x91\\x00\\x92', 7, 8, 'character maps to <undefined>')\n"
     ]
    },
    {
     "name": "stdout",
     "output_type": "stream",
     "text": [
      "Analyzing block: 7/17, contain frames: 6128, already analyzed: 36768/100000, ETA: 27.13 min\n",
      "Processing sub-FOV: 4/4, (240, 295, 240, 295), keep molecules in: (256, 295, 256, 295), loc model: <class 'ailoc.deeploc.deeploc.DeepLoc'>\n"
     ]
    },
    {
     "name": "stderr",
     "output_type": "stream",
     "text": [
      "<tifffile.TiffTag 270 @491320> coercing invalid ASCII to bytes, due to UnicodeDecodeError('charmap', b'\\x00\\x83\\x00~\\x00\\x8b\\x00\\x8f\\x00\\x86\\x00\\x86\\x00\\x90\\x00\\x81\\x00\\x91\\x00\\x8a\\x00\\x8d\\x00\\x87\\x00\\x8d\\x00\\x89\\x00\\x84\\x00\\x86\\x00\\x8c\\x00\\x95\\x00\\x9a\\x00\\x8b\\x00\\x91\\x00\\x88\\x00\\x82\\x00\\x84\\x00\\x7f\\x00\\x8d\\x00\\x8c\\x00\\x8d\\x00\\x8c\\x00\\x84\\x00\\x8a\\x00\\x8e\\x00}\\x00\\x93\\x00\\x87\\x00\\x96\\x00\\x86\\x00\\x91\\x00\\x92', 7, 8, 'character maps to <undefined>')\n",
      "<tifffile.TiffTag 270 @491320> coercing invalid ASCII to bytes, due to UnicodeDecodeError('charmap', b'\\x00x\\x00{\\x00\\x8a\\x00\\x89\\x00\\x88\\x00\\x81\\x00\\x89\\x00\\x8a\\x00\\x8b\\x00~\\x00\\x91\\x00\\x89\\x00\\x8a\\x00\\x87\\x00\\x80\\x00\\x9d\\x00\\x91\\x00\\x8a\\x00~\\x00\\x8d\\x00\\x8c\\x00\\x93\\x00\\x97\\x00\\x8e\\x00\\x8e\\x00\\x87\\x00\\x86\\x00\\x90\\x00\\x89\\x00\\x92\\x00\\x8b\\x00\\x8b\\x00\\x8a\\x00\\x83\\x00\\x8a\\x00\\x83\\x00\\x86\\x00\\x8c\\x00\\x8b', 11, 12, 'character maps to <undefined>')\n"
     ]
    },
    {
     "name": "stdout",
     "output_type": "stream",
     "text": [
      "Analyzing block: 8/17, contain frames: 6128, already analyzed: 42896/100000, ETA: 24.66 min\n",
      "Processing sub-FOV: 4/4, (240, 295, 240, 295), keep molecules in: (256, 295, 256, 295), loc model: <class 'ailoc.deeploc.deeploc.DeepLoc'>\n"
     ]
    },
    {
     "name": "stderr",
     "output_type": "stream",
     "text": [
      "<tifffile.TiffTag 270 @491320> coercing invalid ASCII to bytes, due to UnicodeDecodeError('charmap', b'\\x00x\\x00{\\x00\\x8a\\x00\\x89\\x00\\x88\\x00\\x81\\x00\\x89\\x00\\x8a\\x00\\x8b\\x00~\\x00\\x91\\x00\\x89\\x00\\x8a\\x00\\x87\\x00\\x80\\x00\\x9d\\x00\\x91\\x00\\x8a\\x00~\\x00\\x8d\\x00\\x8c\\x00\\x93\\x00\\x97\\x00\\x8e\\x00\\x8e\\x00\\x87\\x00\\x86\\x00\\x90\\x00\\x89\\x00\\x92\\x00\\x8b\\x00\\x8b\\x00\\x8a\\x00\\x83\\x00\\x8a\\x00\\x83\\x00\\x86\\x00\\x8c\\x00\\x8b', 11, 12, 'character maps to <undefined>')\n"
     ]
    },
    {
     "name": "stdout",
     "output_type": "stream",
     "text": [
      "Analyzing block: 9/17, contain frames: 6128, already analyzed: 49024/100000, ETA: 22.09 min\n",
      "Processing sub-FOV: 4/4, (240, 295, 240, 295), keep molecules in: (256, 295, 256, 295), loc model: <class 'ailoc.deeploc.deeploc.DeepLoc'>\n"
     ]
    },
    {
     "name": "stderr",
     "output_type": "stream",
     "text": [
      "<tifffile.TiffTag 270 @491320> coercing invalid ASCII to bytes, due to UnicodeDecodeError('charmap', b'\\x00x\\x00{\\x00\\x8a\\x00\\x89\\x00\\x88\\x00\\x81\\x00\\x89\\x00\\x8a\\x00\\x8b\\x00~\\x00\\x91\\x00\\x89\\x00\\x8a\\x00\\x87\\x00\\x80\\x00\\x9d\\x00\\x91\\x00\\x8a\\x00~\\x00\\x8d\\x00\\x8c\\x00\\x93\\x00\\x97\\x00\\x8e\\x00\\x8e\\x00\\x87\\x00\\x86\\x00\\x90\\x00\\x89\\x00\\x92\\x00\\x8b\\x00\\x8b\\x00\\x8a\\x00\\x83\\x00\\x8a\\x00\\x83\\x00\\x86\\x00\\x8c\\x00\\x8b', 11, 12, 'character maps to <undefined>')\n"
     ]
    },
    {
     "name": "stdout",
     "output_type": "stream",
     "text": [
      "Analyzing block: 10/17, contain frames: 6128, already analyzed: 55152/100000, ETA: 19.87 min\n",
      "Processing sub-FOV: 4/4, (240, 295, 240, 295), keep molecules in: (256, 295, 256, 295), loc model: <class 'ailoc.deeploc.deeploc.DeepLoc'>\n"
     ]
    },
    {
     "name": "stderr",
     "output_type": "stream",
     "text": [
      "<tifffile.TiffTag 270 @491320> coercing invalid ASCII to bytes, due to UnicodeDecodeError('charmap', b'\\x00x\\x00{\\x00\\x8a\\x00\\x89\\x00\\x88\\x00\\x81\\x00\\x89\\x00\\x8a\\x00\\x8b\\x00~\\x00\\x91\\x00\\x89\\x00\\x8a\\x00\\x87\\x00\\x80\\x00\\x9d\\x00\\x91\\x00\\x8a\\x00~\\x00\\x8d\\x00\\x8c\\x00\\x93\\x00\\x97\\x00\\x8e\\x00\\x8e\\x00\\x87\\x00\\x86\\x00\\x90\\x00\\x89\\x00\\x92\\x00\\x8b\\x00\\x8b\\x00\\x8a\\x00\\x83\\x00\\x8a\\x00\\x83\\x00\\x86\\x00\\x8c\\x00\\x8b', 11, 12, 'character maps to <undefined>')\n",
      "<tifffile.TiffTag 270 @491320> coercing invalid ASCII to bytes, due to UnicodeDecodeError('charmap', b'\\x00\\x85\\x00\\x8a\\x00\\x8d\\x00\\x92\\x00\\x83\\x00\\x83\\x00{\\x00\\x86\\x00\\x80\\x00\\x82\\x00\\x7f\\x00\\x97\\x00\\x90\\x00\\x85\\x00\\x8d\\x00\\x89\\x00\\x88\\x00\\x86\\x00\\x88\\x00\\x88\\x00\\x87\\x00\\x8b\\x00\\x84\\x00\\x93\\x00\\x83\\x00}\\x00\\x92\\x00\\x82\\x00\\x89\\x00\\x8a\\x00\\x88\\x00{\\x00\\x8c\\x00\\x8b\\x00}\\x00\\x83\\x00}\\x00{\\x00\\x80', 5, 6, 'character maps to <undefined>')\n"
     ]
    },
    {
     "name": "stdout",
     "output_type": "stream",
     "text": [
      "Analyzing block: 11/17, contain frames: 6128, already analyzed: 61280/100000, ETA: 17.34 min\n",
      "Processing sub-FOV: 4/4, (240, 295, 240, 295), keep molecules in: (256, 295, 256, 295), loc model: <class 'ailoc.deeploc.deeploc.DeepLoc'>\n"
     ]
    },
    {
     "name": "stderr",
     "output_type": "stream",
     "text": [
      "<tifffile.TiffTag 270 @491320> coercing invalid ASCII to bytes, due to UnicodeDecodeError('charmap', b'\\x00\\x85\\x00\\x8a\\x00\\x8d\\x00\\x92\\x00\\x83\\x00\\x83\\x00{\\x00\\x86\\x00\\x80\\x00\\x82\\x00\\x7f\\x00\\x97\\x00\\x90\\x00\\x85\\x00\\x8d\\x00\\x89\\x00\\x88\\x00\\x86\\x00\\x88\\x00\\x88\\x00\\x87\\x00\\x8b\\x00\\x84\\x00\\x93\\x00\\x83\\x00}\\x00\\x92\\x00\\x82\\x00\\x89\\x00\\x8a\\x00\\x88\\x00{\\x00\\x8c\\x00\\x8b\\x00}\\x00\\x83\\x00}\\x00{\\x00\\x80', 5, 6, 'character maps to <undefined>')\n"
     ]
    },
    {
     "name": "stdout",
     "output_type": "stream",
     "text": [
      "Analyzing block: 12/17, contain frames: 6128, already analyzed: 67408/100000, ETA: 14.88 min\n",
      "Processing sub-FOV: 4/4, (240, 295, 240, 295), keep molecules in: (256, 295, 256, 295), loc model: <class 'ailoc.deeploc.deeploc.DeepLoc'>\n"
     ]
    },
    {
     "name": "stderr",
     "output_type": "stream",
     "text": [
      "<tifffile.TiffTag 270 @491320> coercing invalid ASCII to bytes, due to UnicodeDecodeError('charmap', b'\\x00\\x85\\x00\\x8a\\x00\\x8d\\x00\\x92\\x00\\x83\\x00\\x83\\x00{\\x00\\x86\\x00\\x80\\x00\\x82\\x00\\x7f\\x00\\x97\\x00\\x90\\x00\\x85\\x00\\x8d\\x00\\x89\\x00\\x88\\x00\\x86\\x00\\x88\\x00\\x88\\x00\\x87\\x00\\x8b\\x00\\x84\\x00\\x93\\x00\\x83\\x00}\\x00\\x92\\x00\\x82\\x00\\x89\\x00\\x8a\\x00\\x88\\x00{\\x00\\x8c\\x00\\x8b\\x00}\\x00\\x83\\x00}\\x00{\\x00\\x80', 5, 6, 'character maps to <undefined>')\n"
     ]
    },
    {
     "name": "stdout",
     "output_type": "stream",
     "text": [
      "Analyzing block: 13/17, contain frames: 6128, already analyzed: 73536/100000, ETA: 12.41 min\n",
      "Processing sub-FOV: 4/4, (240, 295, 240, 295), keep molecules in: (256, 295, 256, 295), loc model: <class 'ailoc.deeploc.deeploc.DeepLoc'>\n"
     ]
    },
    {
     "name": "stderr",
     "output_type": "stream",
     "text": [
      "<tifffile.TiffTag 270 @491320> coercing invalid ASCII to bytes, due to UnicodeDecodeError('charmap', b'\\x00\\x85\\x00\\x8a\\x00\\x8d\\x00\\x92\\x00\\x83\\x00\\x83\\x00{\\x00\\x86\\x00\\x80\\x00\\x82\\x00\\x7f\\x00\\x97\\x00\\x90\\x00\\x85\\x00\\x8d\\x00\\x89\\x00\\x88\\x00\\x86\\x00\\x88\\x00\\x88\\x00\\x87\\x00\\x8b\\x00\\x84\\x00\\x93\\x00\\x83\\x00}\\x00\\x92\\x00\\x82\\x00\\x89\\x00\\x8a\\x00\\x88\\x00{\\x00\\x8c\\x00\\x8b\\x00}\\x00\\x83\\x00}\\x00{\\x00\\x80', 5, 6, 'character maps to <undefined>')\n"
     ]
    },
    {
     "name": "stdout",
     "output_type": "stream",
     "text": [
      "Analyzing block: 14/17, contain frames: 6128, already analyzed: 79664/100000, ETA: 9.97 min\n",
      "Processing sub-FOV: 4/4, (240, 295, 240, 295), keep molecules in: (256, 295, 256, 295), loc model: <class 'ailoc.deeploc.deeploc.DeepLoc'>\n"
     ]
    },
    {
     "name": "stderr",
     "output_type": "stream",
     "text": [
      "<tifffile.TiffTag 270 @491320> coercing invalid ASCII to bytes, due to UnicodeDecodeError('charmap', b'\\x00\\x85\\x00\\x8a\\x00\\x8d\\x00\\x92\\x00\\x83\\x00\\x83\\x00{\\x00\\x86\\x00\\x80\\x00\\x82\\x00\\x7f\\x00\\x97\\x00\\x90\\x00\\x85\\x00\\x8d\\x00\\x89\\x00\\x88\\x00\\x86\\x00\\x88\\x00\\x88\\x00\\x87\\x00\\x8b\\x00\\x84\\x00\\x93\\x00\\x83\\x00}\\x00\\x92\\x00\\x82\\x00\\x89\\x00\\x8a\\x00\\x88\\x00{\\x00\\x8c\\x00\\x8b\\x00}\\x00\\x83\\x00}\\x00{\\x00\\x80', 5, 6, 'character maps to <undefined>')\n"
     ]
    },
    {
     "name": "stdout",
     "output_type": "stream",
     "text": [
      "Analyzing block: 15/17, contain frames: 6128, already analyzed: 85792/100000, ETA: 7.42 min\n",
      "Processing sub-FOV: 4/4, (240, 295, 240, 295), keep molecules in: (256, 295, 256, 295), loc model: <class 'ailoc.deeploc.deeploc.DeepLoc'>\n",
      "Analyzing block: 16/17, contain frames: 6128, already analyzed: 91920/100000, ETA: 4.95 min\n",
      "Processing sub-FOV: 4/4, (240, 295, 240, 295), keep molecules in: (256, 295, 256, 295), loc model: <class 'ailoc.deeploc.deeploc.DeepLoc'>\n",
      "Analyzing block: 17/17, contain frames: 1952, already analyzed: 98048/100000, ETA: 2.47 min\n",
      "Processing sub-FOV: 4/4, (240, 295, 240, 295), keep molecules in: (256, 295, 256, 295), loc model: <class 'ailoc.deeploc.deeploc.DeepLoc'>\n",
      "resample the xy offsets to avoid grid artifacts in the difficult conditions (low SNR, high density, etc.) replace the original xnm and ynm with x_rescale and y_rescale\n"
     ]
    },
    {
     "data": {
      "image/png": "[encoded data removed]",
      "text/plain": [
       "<Figure size 640x480 with 4 Axes>"
      ]
     },
     "metadata": {},
     "output_type": "display_data"
    },
    {
     "name": "stdout",
     "output_type": "stream",
     "text": [
      "resample finished, time cost (min): 0.25\n",
      "the file to save the predictions is: E:/projects/FS_work/AI-Loc/AI-Loc_project/results/2023-10-18-16DeepLoc_NPC_NUP96_SNAP647_DMO_6um_defoucs_0_20ms_3_predictions_resample.csv\n"
     ]
    }
   ],
   "source": [
    "preds_array, preds_rescale_array = deeploc_analyzer.divide_and_conquer()"
   ]
  },
  {
   "cell_type": "code",
   "execution_count": null,
   "metadata": {},
   "outputs": [],
   "source": []
  }
 ],
 "metadata": {
  "kernelspec": {
   "display_name": "Python 3 (ipykernel)",
   "language": "python",
   "name": "python3"
  },
  "language_info": {
   "codemirror_mode": {
    "name": "ipython",
    "version": 3
   },
   "file_extension": ".py",
   "mimetype": "text/x-python",
   "name": "python",
   "nbconvert_exporter": "python",
   "pygments_lexer": "ipython3",
   "version": "3.9.7"
  }
 },
 "nbformat": 4,
 "nbformat_minor": 1
}
