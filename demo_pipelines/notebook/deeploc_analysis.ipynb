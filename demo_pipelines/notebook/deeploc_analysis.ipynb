{
 "cells": [
  {
   "cell_type": "code",
   "execution_count": 1,
   "metadata": {
    "pycharm": {
     "is_executing": true
    }
   },
   "outputs": [],
   "source": [
    "import sys\n",
    "sys.path.append('../../')\n",
    "import ipywidgets as widgets\n",
    "from IPython.display import display\n",
    "import stackview\n",
    "import datetime\n",
    "\n",
    "import ailoc.deeploc\n",
    "import ailoc.common\n",
    "ailoc.common.setup_seed(42)\n",
    "\n",
    "%matplotlib inline"
   ]
  },
  {
   "cell_type": "markdown",
   "metadata": {},
   "source": [
    "## 1. Set the paths of DeepLoc model, images, predictions and analyzer parameters. "
   ]
  },
  {
   "cell_type": "code",
   "execution_count": 2,
   "metadata": {
    "scrolled": false
   },
   "outputs": [
    {
     "data": {
      "application/vnd.jupyter.widget-view+json": {
       "model_id": "5a8cc1e82fed4a308fb5ad26a0137891",
       "version_major": 2,
       "version_minor": 0
      },
      "text/plain": [
       "SelectFilesButton(description='Select DeepLoc model', icon='square-o', layout=Layout(height='80px', width='100…"
      ]
     },
     "metadata": {},
     "output_type": "display_data"
    },
    {
     "data": {
      "application/vnd.jupyter.widget-view+json": {
       "model_id": "1f73483708644a109d9928ba0478f69a",
       "version_major": 2,
       "version_minor": 0
      },
      "text/plain": [
       "Checkbox(value=True, description='Select all tiff files under the folder', indent=False)"
      ]
     },
     "metadata": {},
     "output_type": "display_data"
    },
    {
     "data": {
      "application/vnd.jupyter.widget-view+json": {
       "model_id": "41dfe1bcaa4b4572ade249a669dc0d5e",
       "version_major": 2,
       "version_minor": 0
      },
      "text/plain": [
       "SelectFilesButton(description='Select tiff file', icon='square-o', layout=Layout(height='80px', width='100%'),…"
      ]
     },
     "metadata": {},
     "output_type": "display_data"
    },
    {
     "data": {
      "application/vnd.jupyter.widget-view+json": {
       "model_id": "e1a4ddf3bbf14b229b3c60db0999bda1",
       "version_major": 2,
       "version_minor": 0
      },
      "text/plain": [
       "SaveFilesButton(description='Save predicted CSV', icon='square-o', layout=Layout(height='80px', width='100%'),…"
      ]
     },
     "metadata": {},
     "output_type": "display_data"
    },
    {
     "data": {
      "application/vnd.jupyter.widget-view+json": {
       "model_id": "ff8278fe92c1497baf07262c68f7b7e7",
       "version_major": 2,
       "version_minor": 0
      },
      "text/plain": [
       "GridspecLayout(children=(BoundedIntText(value=1, description='Block(GB)', layout=Layout(grid_area='widget001')…"
      ]
     },
     "metadata": {},
     "output_type": "display_data"
    },
    {
     "data": {
      "application/vnd.jupyter.widget-view+json": {
       "model_id": "52a7b8aae42a4b99aeec0b0be388ff9a",
       "version_major": 2,
       "version_minor": 0
      },
      "text/plain": [
       "Button(description='OK', style=ButtonStyle())"
      ]
     },
     "metadata": {},
     "output_type": "display_data"
    },
    {
     "data": {
      "application/vnd.jupyter.widget-view+json": {
       "model_id": "12170419dffa48d6999edbfa865244c3",
       "version_major": 2,
       "version_minor": 0
      },
      "text/plain": [
       "Output()"
      ]
     },
     "metadata": {},
     "output_type": "display_data"
    }
   ],
   "source": [
    "deeploc_analyzer_param_widget = ailoc.common.DeepLocSetAnalyzerParamWidget()\n",
    "deeploc_analyzer_param_widget.display_notebook_gui()"
   ]
  },
  {
   "cell_type": "markdown",
   "metadata": {},
   "source": [
    "## 2. Run the code cell to initialize the DeepLoc analyzer"
   ]
  },
  {
   "cell_type": "code",
   "execution_count": 4,
   "metadata": {
    "scrolled": true
   },
   "outputs": [
    {
     "name": "stderr",
     "output_type": "stream",
     "text": [
      "<tifffile.TiffTag 270 @172878> coercing invalid ASCII to bytes, due to UnicodeDecodeError('charmap', b'\\x00\\x86\\x00v\\x00\\x96\\x00\\x8e\\x00\\x94\\x00\\x7f\\x00\\x80\\x00\\x83\\x00x\\x00\\x8c\\x00\\x8a\\x00\\x94\\x00\\x80\\x00\\x96\\x00\\x8f\\x00\\x83\\x00\\x80\\x00\\x83\\x00\\x85\\x00~\\x00\\x87\\x00\\x83\\x00\\x87\\x00\\x7f\\x00\\x7f\\x00\\x84\\x00\\x8b\\x00\\x86\\x00\\x93\\x00\\x8f\\x00\\x81\\x00\\x8c\\x00x\\x00\\x89\\x00\\x84\\x00\\x8a\\x00\\x8d\\x00{\\x00\\x84', 29, 30, 'character maps to <undefined>')\n",
      "<tifffile.TiffTag 270 @172878> coercing invalid ASCII to bytes, due to UnicodeDecodeError('charmap', b'~\\x00\\x83\\x00\\x7f\\x00y\\x00\\x92\\x00\\x8b\\x00w\\x00\\x89\\x00\\x85\\x00\\x8a\\x00\\x81\\x00\\x80\\x00\\x82\\x00\\x8c\\x00\\x83\\x00\\x81\\x00w\\x00\\x86\\x00\\x84\\x00\\x84\\x00\\x87\\x00\\x7f\\x00}\\x00\\x86\\x00\\x87\\x00\\x82\\x00\\x8c\\x00\\x83\\x00~\\x00\\x8a\\x00{\\x00\\x84\\x00\\x88\\x00\\x7f\\x00\\x84\\x00\\x82\\x00z\\x00~\\x00~', 20, 21, 'character maps to <undefined>')\n"
     ]
    },
    {
     "name": "stdout",
     "output_type": "stream",
     "text": [
      "the file to save the predictions is: E:/projects/FS_work/AI-Loc/AI-Loc_project/results/2023-09-01-11DeepLoc_predictions.csv\n"
     ]
    },
    {
     "name": "stderr",
     "output_type": "stream",
     "text": [
      "<tifffile.TiffTag 270 @172878> coercing invalid ASCII to bytes, due to UnicodeDecodeError('charmap', b'\\x00\\x86\\x00v\\x00\\x96\\x00\\x8e\\x00\\x94\\x00\\x7f\\x00\\x80\\x00\\x83\\x00x\\x00\\x8c\\x00\\x8a\\x00\\x94\\x00\\x80\\x00\\x96\\x00\\x8f\\x00\\x83\\x00\\x80\\x00\\x83\\x00\\x85\\x00~\\x00\\x87\\x00\\x83\\x00\\x87\\x00\\x7f\\x00\\x7f\\x00\\x84\\x00\\x8b\\x00\\x86\\x00\\x93\\x00\\x8f\\x00\\x81\\x00\\x8c\\x00x\\x00\\x89\\x00\\x84\\x00\\x8a\\x00\\x8d\\x00{\\x00\\x84', 29, 30, 'character maps to <undefined>')\n",
      "<tifffile.TiffTag 270 @172878> coercing invalid ASCII to bytes, due to UnicodeDecodeError('charmap', b'~\\x00\\x83\\x00\\x7f\\x00y\\x00\\x92\\x00\\x8b\\x00w\\x00\\x89\\x00\\x85\\x00\\x8a\\x00\\x81\\x00\\x80\\x00\\x82\\x00\\x8c\\x00\\x83\\x00\\x81\\x00w\\x00\\x86\\x00\\x84\\x00\\x84\\x00\\x87\\x00\\x7f\\x00}\\x00\\x86\\x00\\x87\\x00\\x82\\x00\\x8c\\x00\\x83\\x00~\\x00\\x8a\\x00{\\x00\\x84\\x00\\x88\\x00\\x7f\\x00\\x84\\x00\\x82\\x00z\\x00~\\x00~', 20, 21, 'character maps to <undefined>')\n",
      "<tifffile.TiffFile 'Npc_3_MMStack_Default.ome.tif'> MMStack is missing 75178 pages. Missing data are zeroed\n"
     ]
    },
    {
     "name": "stdout",
     "output_type": "stream",
     "text": [
      "frame ranges || filename: \n",
      "[0-8273] || E:\\data_station\\wzp data\\20211120\\Npc_3\\Npc_3_MMStack_Default.ome.tif\n",
      "[8274-16547] || E:\\data_station\\wzp data\\20211120\\Npc_3\\Npc_3_MMStack_Default_1.ome.tif\n",
      "[16548-24821] || E:\\data_station\\wzp data\\20211120\\Npc_3\\Npc_3_MMStack_Default_2.ome.tif\n",
      "\u001b[0;31mWarning: meta data shows that the tiff stack has 100000 frames, the sum of all file pages is 24822\u001b[0m\n"
     ]
    }
   ],
   "source": [
    "deeploc_analyzer = ailoc.common.SmlmDataAnalyzer(loc_model=deeploc_analyzer_param_widget.analyzer_param['deeploc_model'],\n",
    "                                                 tiff_path=deeploc_analyzer_param_widget.analyzer_param['tiff_path'],\n",
    "                                                 output_path=deeploc_analyzer_param_widget.analyzer_param['output_path'],\n",
    "                                                 time_block_gb=deeploc_analyzer_param_widget.analyzer_param['time_block_gb'],\n",
    "                                                 batch_size=deeploc_analyzer_param_widget.analyzer_param['batch_size'],\n",
    "                                                 sub_fov_size=deeploc_analyzer_param_widget.analyzer_param['sub_fov_size'],\n",
    "                                                 over_cut=deeploc_analyzer_param_widget.analyzer_param['over_cut'],\n",
    "                                                 num_workers=deeploc_analyzer_param_widget.analyzer_param['num_workers'])"
   ]
  },
  {
   "cell_type": "markdown",
   "metadata": {},
   "source": [
    "## 3. Check the output of a specific frame"
   ]
  },
  {
   "cell_type": "code",
   "execution_count": 5,
   "metadata": {
    "scrolled": false
   },
   "outputs": [
    {
     "data": {
      "application/vnd.jupyter.widget-view+json": {
       "model_id": "fac8b9e0077145a69c8a68f5d0f21d6f",
       "version_major": 2,
       "version_minor": 0
      },
      "text/plain": [
       "VBox(children=(HBox(children=(Label(value='Input the frame number:'), BoundedIntText(value=0, max=24821))), Ou…"
      ]
     },
     "metadata": {},
     "output_type": "display_data"
    }
   ],
   "source": [
    "frame_num_widget = widgets.HBox([widgets.Label(value='Input the frame number:'), widgets.BoundedIntText(value=0, min=0, max=deeploc_analyzer.tiff_dataset.sum_file_length-1, step=1,)])\n",
    "out = widgets.interactive_output(deeploc_analyzer.check_single_frame_output, {'frame_num': frame_num_widget.children[1]})\n",
    "\n",
    "display(widgets.VBox([frame_num_widget, out]))"
   ]
  },
  {
   "cell_type": "markdown",
   "metadata": {},
   "source": [
    "## 4. Run the code cell to analyze the data  "
   ]
  },
  {
   "cell_type": "code",
   "execution_count": 6,
   "metadata": {},
   "outputs": [
    {
     "name": "stdout",
     "output_type": "stream",
     "text": [
      "Analyzing block: 1/12, contain frames: 2148, already analyzed: 0/24822, ETA: inf min\n",
      "Processing sub-FOV: 5/16, (0, 135, 120, 263), keep molecules in: (0, 127, 128, 255), loc model: <class 'ailoc.deeploc.deeploc.DeepLoc'>"
     ]
    },
    {
     "ename": "KeyboardInterrupt",
     "evalue": "",
     "output_type": "error",
     "traceback": [
      "\u001b[1;31m---------------------------------------------------------------------------\u001b[0m",
      "\u001b[1;31mKeyboardInterrupt\u001b[0m                         Traceback (most recent call last)",
      "Cell \u001b[1;32mIn[6], line 1\u001b[0m\n\u001b[1;32m----> 1\u001b[0m image_shape, fov_xy_nm, preds_rescale_array \u001b[38;5;241m=\u001b[39m \u001b[43mdeeploc_analyzer\u001b[49m\u001b[38;5;241;43m.\u001b[39;49m\u001b[43mdivide_and_conquer\u001b[49m\u001b[43m(\u001b[49m\u001b[43m)\u001b[49m\n",
      "File \u001b[1;32mE:\\projects\\FS_work\\AI-Loc\\AI-Loc_project\\demo_pipelines\\notebook\\../..\\ailoc\\common\\analyzer.py:433\u001b[0m, in \u001b[0;36mSmlmDataAnalyzer.divide_and_conquer\u001b[1;34m(self)\u001b[0m\n\u001b[0;32m    430\u001b[0m     \u001b[38;5;28mself\u001b[39m\u001b[38;5;241m.\u001b[39mui_print_signal\u001b[38;5;241m.\u001b[39memit(print_message_tmp) \u001b[38;5;28;01mif\u001b[39;00m \u001b[38;5;28mself\u001b[39m\u001b[38;5;241m.\u001b[39mui_print_signal \u001b[38;5;129;01mis\u001b[39;00m \u001b[38;5;129;01mnot\u001b[39;00m \u001b[38;5;28;01mNone\u001b[39;00m \u001b[38;5;28;01melse\u001b[39;00m \u001b[38;5;28;01mNone\u001b[39;00m\n\u001b[0;32m    432\u001b[0m     \u001b[38;5;28;01mwith\u001b[39;00m autocast():\n\u001b[1;32m--> 433\u001b[0m         molecule_list_tmp, inference_dict_tmp \u001b[38;5;241m=\u001b[39m data_analyze(loc_model\u001b[38;5;241m=\u001b[39m\u001b[38;5;28mself\u001b[39m\u001b[38;5;241m.\u001b[39mloc_model,\n\u001b[0;32m    434\u001b[0m                                                              data\u001b[38;5;241m=\u001b[39msub_fov_data_list[i_fov],\n\u001b[0;32m    435\u001b[0m                                                              sub_fov_xy\u001b[38;5;241m=\u001b[39msub_fov_xy_list[i_fov],\n\u001b[0;32m    436\u001b[0m                                                              camera\u001b[38;5;241m=\u001b[39m\u001b[38;5;28mself\u001b[39m\u001b[38;5;241m.\u001b[39mcamera,\n\u001b[0;32m    437\u001b[0m                                                              batch_size\u001b[38;5;241m=\u001b[39m\u001b[38;5;28mself\u001b[39m\u001b[38;5;241m.\u001b[39mbatch_size)\n\u001b[0;32m    438\u001b[0m     sub_fov_molecule_list\u001b[38;5;241m.\u001b[39mappend(molecule_list_tmp)\n\u001b[0;32m    440\u001b[0m print_message_tmp \u001b[38;5;241m=\u001b[39m \u001b[38;5;124m'\u001b[39m\u001b[38;5;124m'\u001b[39m\n",
      "File \u001b[1;32mD:\\Softwares\\anaconda3\\envs\\ailoc\\lib\\site-packages\\torch\\cuda\\amp\\autocast_mode.py:36\u001b[0m, in \u001b[0;36mautocast.__exit__\u001b[1;34m(self, exc_type, exc_val, exc_tb)\u001b[0m\n\u001b[0;32m     34\u001b[0m \u001b[38;5;28;01mif\u001b[39;00m torch\u001b[38;5;241m.\u001b[39m_jit_internal\u001b[38;5;241m.\u001b[39mis_scripting():\n\u001b[0;32m     35\u001b[0m     \u001b[38;5;28;01mreturn\u001b[39;00m\n\u001b[1;32m---> 36\u001b[0m \u001b[38;5;28;01mreturn\u001b[39;00m \u001b[38;5;28;43msuper\u001b[39;49m\u001b[43m(\u001b[49m\u001b[43m)\u001b[49m\u001b[38;5;241;43m.\u001b[39;49m\u001b[38;5;21;43m__exit__\u001b[39;49m\u001b[43m(\u001b[49m\u001b[43mexc_type\u001b[49m\u001b[43m,\u001b[49m\u001b[43m \u001b[49m\u001b[43mexc_val\u001b[49m\u001b[43m,\u001b[49m\u001b[43m \u001b[49m\u001b[43mexc_tb\u001b[49m\u001b[43m)\u001b[49m\n",
      "File \u001b[1;32mD:\\Softwares\\anaconda3\\envs\\ailoc\\lib\\site-packages\\torch\\amp\\autocast_mode.py:292\u001b[0m, in \u001b[0;36mautocast.__exit__\u001b[1;34m(self, exc_type, exc_val, exc_tb)\u001b[0m\n\u001b[0;32m    290\u001b[0m     \u001b[38;5;28;01mif\u001b[39;00m torch\u001b[38;5;241m.\u001b[39mautocast_decrement_nesting() \u001b[38;5;241m==\u001b[39m \u001b[38;5;241m0\u001b[39m:\n\u001b[0;32m    291\u001b[0m         torch\u001b[38;5;241m.\u001b[39mclear_autocast_cache()\n\u001b[1;32m--> 292\u001b[0m     \u001b[43mtorch\u001b[49m\u001b[38;5;241m.\u001b[39mset_autocast_enabled(\u001b[38;5;28mself\u001b[39m\u001b[38;5;241m.\u001b[39mprev)\n\u001b[0;32m    293\u001b[0m     torch\u001b[38;5;241m.\u001b[39mset_autocast_gpu_dtype(\u001b[38;5;28mself\u001b[39m\u001b[38;5;241m.\u001b[39mprev_fastdtype)\n\u001b[0;32m    294\u001b[0m torch\u001b[38;5;241m.\u001b[39mset_autocast_cache_enabled(\u001b[38;5;28mself\u001b[39m\u001b[38;5;241m.\u001b[39mprev_cache_enabled)\n",
      "\u001b[1;31mKeyboardInterrupt\u001b[0m: "
     ]
    }
   ],
   "source": [
    "image_shape, fov_xy_nm, preds_rescale_array = deeploc_analyzer.divide_and_conquer()"
   ]
  },
  {
   "cell_type": "code",
   "execution_count": null,
   "metadata": {},
   "outputs": [],
   "source": []
  }
 ],
 "metadata": {
  "kernelspec": {
   "display_name": "Python 3 (ipykernel)",
   "language": "python",
   "name": "python3"
  },
  "language_info": {
   "codemirror_mode": {
    "name": "ipython",
    "version": 3
   },
   "file_extension": ".py",
   "mimetype": "text/x-python",
   "name": "python",
   "nbconvert_exporter": "python",
   "pygments_lexer": "ipython3",
   "version": "3.9.7"
  }
 },
 "nbformat": 4,
 "nbformat_minor": 1
}
