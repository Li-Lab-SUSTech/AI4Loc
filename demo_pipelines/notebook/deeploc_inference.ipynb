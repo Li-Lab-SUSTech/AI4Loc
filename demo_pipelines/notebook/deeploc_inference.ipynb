{
 "cells": [
  {
   "cell_type": "code",
   "execution_count": 1,
   "metadata": {
    "pycharm": {
     "is_executing": true
    }
   },
   "outputs": [],
   "source": [
    "import sys\n",
    "sys.path.append('../../')\n",
    "import ipywidgets as widgets\n",
    "from IPython.display import display\n",
    "import stackview\n",
    "import datetime\n",
    "\n",
    "import ailoc.deeploc\n",
    "import ailoc.common\n",
    "ailoc.common.setup_seed(42)\n",
    "\n",
    "%matplotlib inline"
   ]
  },
  {
   "cell_type": "markdown",
   "metadata": {},
   "source": [
    "## 1. Set the paths of DeepLoc model, images, predictions and analyzer parameters. "
   ]
  },
  {
   "cell_type": "code",
   "execution_count": 3,
   "metadata": {
    "scrolled": false
   },
   "outputs": [
    {
     "data": {
      "application/vnd.jupyter.widget-view+json": {
       "model_id": "f0e0ae6a1d464afc89cac4910000e30a",
       "version_major": 2,
       "version_minor": 0
      },
      "text/plain": [
       "SelectFilesButton(description='Select DeepLoc model', icon='square-o', layout=Layout(height='80px', width='100…"
      ]
     },
     "metadata": {},
     "output_type": "display_data"
    },
    {
     "data": {
      "application/vnd.jupyter.widget-view+json": {
       "model_id": "fe0110c6a0a547f3bf2c34f279b20339",
       "version_major": 2,
       "version_minor": 0
      },
      "text/plain": [
       "Checkbox(value=True, description='Select all tiff files under the folder', indent=False)"
      ]
     },
     "metadata": {},
     "output_type": "display_data"
    },
    {
     "data": {
      "application/vnd.jupyter.widget-view+json": {
       "model_id": "4178c5d7b23447e3a66bc2aa929d1e65",
       "version_major": 2,
       "version_minor": 0
      },
      "text/plain": [
       "SelectFilesButton(description='Select tiff file', icon='square-o', layout=Layout(height='80px', width='100%'),…"
      ]
     },
     "metadata": {},
     "output_type": "display_data"
    },
    {
     "data": {
      "application/vnd.jupyter.widget-view+json": {
       "model_id": "38bac442cf564903accedf458d3e996e",
       "version_major": 2,
       "version_minor": 0
      },
      "text/plain": [
       "SaveFilesButton(description='Save predicted CSV', icon='square-o', layout=Layout(height='80px', width='100%'),…"
      ]
     },
     "metadata": {},
     "output_type": "display_data"
    },
    {
     "data": {
      "application/vnd.jupyter.widget-view+json": {
       "model_id": "d999318ea4734767b50fcd09f8133088",
       "version_major": 2,
       "version_minor": 0
      },
      "text/plain": [
       "GridspecLayout(children=(BoundedIntText(value=1, description='Block(GB)', layout=Layout(grid_area='widget001')…"
      ]
     },
     "metadata": {},
     "output_type": "display_data"
    },
    {
     "data": {
      "application/vnd.jupyter.widget-view+json": {
       "model_id": "26bed5a3a9b84e32a6f80172d1d3cc69",
       "version_major": 2,
       "version_minor": 0
      },
      "text/plain": [
       "Button(description='OK', style=ButtonStyle())"
      ]
     },
     "metadata": {},
     "output_type": "display_data"
    },
    {
     "data": {
      "application/vnd.jupyter.widget-view+json": {
       "model_id": "d90fece35e5d492c8ae53cee26ed40b2",
       "version_major": 2,
       "version_minor": 0
      },
      "text/plain": [
       "Output()"
      ]
     },
     "metadata": {},
     "output_type": "display_data"
    }
   ],
   "source": [
    "deeploc_analyzer_param_widget = ailoc.common.DeepLocSetAnalyzerParamWidget()\n",
    "deeploc_analyzer_param_widget.display_notebook_gui()"
   ]
  },
  {
   "cell_type": "markdown",
   "metadata": {},
   "source": [
    "## 2. Run the code cell to initialize the DeepLoc analyzer"
   ]
  },
  {
   "cell_type": "code",
   "execution_count": 4,
   "metadata": {
    "scrolled": true
   },
   "outputs": [
    {
     "name": "stdout",
     "output_type": "stream",
     "text": [
      "the file to save the predictions is: E:/projects/FS_work/AI-Loc/AI-Loc_project/results/2023-09-01-11DeepLoc_predictions.csv\n",
      "frame ranges || filename: \n",
      "[0-19999] || E:\\projects\\FS_work\\AI-Loc\\AI-Loc_project\\datasets\\match_data\\1.tif\n"
     ]
    }
   ],
   "source": [
    "deeploc_analyzer = ailoc.common.SmlmDataAnalyzer(loc_model=deeploc_analyzer_param_widget.analyzer_param['deeploc_model'],\n",
    "                                                 tiff_path=deeploc_analyzer_param_widget.analyzer_param['tiff_path'],\n",
    "                                                 output_path=deeploc_analyzer_param_widget.analyzer_param['output_path'],\n",
    "                                                 time_block_gb=deeploc_analyzer_param_widget.analyzer_param['time_block_gb'],\n",
    "                                                 batch_size=deeploc_analyzer_param_widget.analyzer_param['batch_size'],\n",
    "                                                 sub_fov_size=deeploc_analyzer_param_widget.analyzer_param['sub_fov_size'],\n",
    "                                                 over_cut=deeploc_analyzer_param_widget.analyzer_param['over_cut'],\n",
    "                                                 num_workers=deeploc_analyzer_param_widget.analyzer_param['num_workers'])"
   ]
  },
  {
   "cell_type": "markdown",
   "metadata": {},
   "source": [
    "## 3. Check the output of a specific frame"
   ]
  },
  {
   "cell_type": "code",
   "execution_count": 5,
   "metadata": {
    "scrolled": false
   },
   "outputs": [
    {
     "data": {
      "application/vnd.jupyter.widget-view+json": {
       "model_id": "b9e648b99ee640d48898a6bd83820d02",
       "version_major": 2,
       "version_minor": 0
      },
      "text/plain": [
       "VBox(children=(HBox(children=(Label(value='Input the frame number:'), BoundedIntText(value=0, max=19999))), Ou…"
      ]
     },
     "metadata": {},
     "output_type": "display_data"
    }
   ],
   "source": [
    "frame_num_widget = widgets.HBox([widgets.Label(value='Input the frame number:'), widgets.BoundedIntText(value=0, min=0, max=deeploc_analyzer.tiff_dataset.sum_file_length-1, step=1,)])\n",
    "out = widgets.interactive_output(deeploc_analyzer.check_single_frame_output, {'frame_num': frame_num_widget.children[1]})\n",
    "\n",
    "display(widgets.VBox([frame_num_widget, out]))"
   ]
  },
  {
   "cell_type": "markdown",
   "metadata": {},
   "source": [
    "## 4. Run the code cell to analyze the data  "
   ]
  },
  {
   "cell_type": "code",
   "execution_count": 6,
   "metadata": {},
   "outputs": [
    {
     "name": "stdout",
     "output_type": "stream",
     "text": [
      "Analyzing block: 1/1, contain frames: 20000, already analyzed: 0/20000, ETA: inf min\n",
      "Processing sub-FOV: 1/1, (0, 63, 0, 63), keep molecules in: (0, 63, 0, 63), loc model: <class 'ailoc.deeploc.deeploc.DeepLoc'>\n",
      "applying histogram equalization to the xy offsets to avoid grid artifacts in the difficult conditions (low SNR, high density, etc.) replace the original xnm and ynm with x_rescale and y_rescale\n",
      "histogram equalization finished, time cost (min): 0.01\n",
      "the file to save the predictions is: E:/projects/FS_work/AI-Loc/AI-Loc_project/results/2023-09-01-11DeepLoc_predictions.csv\n"
     ]
    }
   ],
   "source": [
    "image_shape, fov_xy_nm, preds_rescale_array = deeploc_analyzer.divide_and_conquer()"
   ]
  },
  {
   "cell_type": "code",
   "execution_count": null,
   "metadata": {},
   "outputs": [],
   "source": []
  }
 ],
 "metadata": {
  "kernelspec": {
   "display_name": "Python 3 (ipykernel)",
   "language": "python",
   "name": "python3"
  },
  "language_info": {
   "codemirror_mode": {
    "name": "ipython",
    "version": 3
   },
   "file_extension": ".py",
   "mimetype": "text/x-python",
   "name": "python",
   "nbconvert_exporter": "python",
   "pygments_lexer": "ipython3",
   "version": "3.9.7"
  }
 },
 "nbformat": 4,
 "nbformat_minor": 1
}
