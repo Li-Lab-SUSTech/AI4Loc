{
 "cells": [
  {
   "cell_type": "code",
   "execution_count": 1,
   "metadata": {},
   "outputs": [],
   "source": [
    "import sys\n",
    "sys.path.append('../../')\n",
    "import ipywidgets as widgets\n",
    "from IPython.display import display\n",
    "import stackview\n",
    "import datetime\n",
    "\n",
    "import ailoc.deeploc\n",
    "import ailoc.common\n",
    "ailoc.common.setup_seed(42)\n",
    "\n",
    "%matplotlib inline"
   ]
  },
  {
   "cell_type": "markdown",
   "metadata": {},
   "source": [
    "## 1. Set the paths of DeepLoc model, images, predictions and analyzer parameters. "
   ]
  },
  {
   "cell_type": "code",
   "execution_count": 2,
   "metadata": {
    "scrolled": false
   },
   "outputs": [
    {
     "data": {
      "application/vnd.jupyter.widget-view+json": {
       "model_id": "931e9b2540fe49d882d3580274f3066e",
       "version_major": 2,
       "version_minor": 0
      },
      "text/plain": [
       "SelectFilesButton(description='Select DeepLoc model', icon='square-o', layout=Layout(height='80px', width='100…"
      ]
     },
     "metadata": {},
     "output_type": "display_data"
    },
    {
     "data": {
      "application/vnd.jupyter.widget-view+json": {
       "model_id": "7dae63e8c52c4226b6916540bc1f93b8",
       "version_major": 2,
       "version_minor": 0
      },
      "text/plain": [
       "Checkbox(value=True, description='Select all tiff files under the folder', indent=False)"
      ]
     },
     "metadata": {},
     "output_type": "display_data"
    },
    {
     "data": {
      "application/vnd.jupyter.widget-view+json": {
       "model_id": "a27c49da89254ba18ed865a55a467e2a",
       "version_major": 2,
       "version_minor": 0
      },
      "text/plain": [
       "SelectFilesButton(description='Select tiff file', icon='square-o', layout=Layout(height='80px', width='100%'),…"
      ]
     },
     "metadata": {},
     "output_type": "display_data"
    },
    {
     "data": {
      "application/vnd.jupyter.widget-view+json": {
       "model_id": "e9a591abea2e4ddbbd90d5e80c43253e",
       "version_major": 2,
       "version_minor": 0
      },
      "text/plain": [
       "SaveFilesButton(description='Save predicted CSV', icon='square-o', layout=Layout(height='80px', width='100%'),…"
      ]
     },
     "metadata": {},
     "output_type": "display_data"
    },
    {
     "data": {
      "application/vnd.jupyter.widget-view+json": {
       "model_id": "f7e7cfbfcdd646219b4587a13da9c5d7",
       "version_major": 2,
       "version_minor": 0
      },
      "text/plain": [
       "GridspecLayout(children=(BoundedIntText(value=1, description='Block(GB)', layout=Layout(grid_area='widget001')…"
      ]
     },
     "metadata": {},
     "output_type": "display_data"
    },
    {
     "data": {
      "application/vnd.jupyter.widget-view+json": {
       "model_id": "cba7092d845c4e7a95ac710c04cfa0b2",
       "version_major": 2,
       "version_minor": 0
      },
      "text/plain": [
       "Button(description='OK', style=ButtonStyle())"
      ]
     },
     "metadata": {},
     "output_type": "display_data"
    },
    {
     "data": {
      "application/vnd.jupyter.widget-view+json": {
       "model_id": "397bb7f6ba324a09b8795c357d96285c",
       "version_major": 2,
       "version_minor": 0
      },
      "text/plain": [
       "Output()"
      ]
     },
     "metadata": {},
     "output_type": "display_data"
    }
   ],
   "source": [
    "deeploc_analyzer_param_widget = ailoc.common.DeepLocSetAnalyzerParamWidget()\n",
    "deeploc_analyzer_param_widget.display_notebook_gui()"
   ]
  },
  {
   "cell_type": "markdown",
   "metadata": {},
   "source": [
    "## 2. Run the code cell to initialize the DeepLoc analyzer"
   ]
  },
  {
   "cell_type": "code",
   "execution_count": 3,
   "metadata": {
    "scrolled": true
   },
   "outputs": [
    {
     "name": "stderr",
     "output_type": "stream",
     "text": [
      "<tifffile.TiffTag 270 @172878> coercing invalid ASCII to bytes, due to UnicodeDecodeError('charmap', b'\\x00\\x86\\x00v\\x00\\x96\\x00\\x8e\\x00\\x94\\x00\\x7f\\x00\\x80\\x00\\x83\\x00x\\x00\\x8c\\x00\\x8a\\x00\\x94\\x00\\x80\\x00\\x96\\x00\\x8f\\x00\\x83\\x00\\x80\\x00\\x83\\x00\\x85\\x00~\\x00\\x87\\x00\\x83\\x00\\x87\\x00\\x7f\\x00\\x7f\\x00\\x84\\x00\\x8b\\x00\\x86\\x00\\x93\\x00\\x8f\\x00\\x81\\x00\\x8c\\x00x\\x00\\x89\\x00\\x84\\x00\\x8a\\x00\\x8d\\x00{\\x00\\x84', 29, 30, 'character maps to <undefined>')\n"
     ]
    },
    {
     "name": "stdout",
     "output_type": "stream",
     "text": [
      "the file to save the predictions is: E:/projects/FS_work/AI-Loc/AI-Loc_project/results/2023-09-01-11DeepLoc_predictions.csv\n"
     ]
    },
    {
     "name": "stderr",
     "output_type": "stream",
     "text": [
      "<tifffile.TiffTag 270 @172878> coercing invalid ASCII to bytes, due to UnicodeDecodeError('charmap', b'~\\x00\\x83\\x00\\x7f\\x00y\\x00\\x92\\x00\\x8b\\x00w\\x00\\x89\\x00\\x85\\x00\\x8a\\x00\\x81\\x00\\x80\\x00\\x82\\x00\\x8c\\x00\\x83\\x00\\x81\\x00w\\x00\\x86\\x00\\x84\\x00\\x84\\x00\\x87\\x00\\x7f\\x00}\\x00\\x86\\x00\\x87\\x00\\x82\\x00\\x8c\\x00\\x83\\x00~\\x00\\x8a\\x00{\\x00\\x84\\x00\\x88\\x00\\x7f\\x00\\x84\\x00\\x82\\x00z\\x00~\\x00~', 20, 21, 'character maps to <undefined>')\n",
      "<tifffile.TiffTag 270 @172878> coercing invalid ASCII to bytes, due to UnicodeDecodeError('charmap', b'\\x00\\x86\\x00v\\x00\\x96\\x00\\x8e\\x00\\x94\\x00\\x7f\\x00\\x80\\x00\\x83\\x00x\\x00\\x8c\\x00\\x8a\\x00\\x94\\x00\\x80\\x00\\x96\\x00\\x8f\\x00\\x83\\x00\\x80\\x00\\x83\\x00\\x85\\x00~\\x00\\x87\\x00\\x83\\x00\\x87\\x00\\x7f\\x00\\x7f\\x00\\x84\\x00\\x8b\\x00\\x86\\x00\\x93\\x00\\x8f\\x00\\x81\\x00\\x8c\\x00x\\x00\\x89\\x00\\x84\\x00\\x8a\\x00\\x8d\\x00{\\x00\\x84', 29, 30, 'character maps to <undefined>')\n",
      "<tifffile.TiffTag 270 @172878> coercing invalid ASCII to bytes, due to UnicodeDecodeError('charmap', b'~\\x00\\x83\\x00\\x7f\\x00y\\x00\\x92\\x00\\x8b\\x00w\\x00\\x89\\x00\\x85\\x00\\x8a\\x00\\x81\\x00\\x80\\x00\\x82\\x00\\x8c\\x00\\x83\\x00\\x81\\x00w\\x00\\x86\\x00\\x84\\x00\\x84\\x00\\x87\\x00\\x7f\\x00}\\x00\\x86\\x00\\x87\\x00\\x82\\x00\\x8c\\x00\\x83\\x00~\\x00\\x8a\\x00{\\x00\\x84\\x00\\x88\\x00\\x7f\\x00\\x84\\x00\\x82\\x00z\\x00~\\x00~', 20, 21, 'character maps to <undefined>')\n",
      "<tifffile.TiffFile 'Npc_3_MMStack_Default.ome.tif'> MMStack is missing 75178 pages. Missing data are zeroed\n"
     ]
    },
    {
     "name": "stdout",
     "output_type": "stream",
     "text": [
      "frame ranges || filename: \n",
      "[0-8273] || E:\\data_station\\wzp data\\20211120\\Npc_3\\Npc_3_MMStack_Default.ome.tif\n",
      "[8274-16547] || E:\\data_station\\wzp data\\20211120\\Npc_3\\Npc_3_MMStack_Default_1.ome.tif\n",
      "[16548-24821] || E:\\data_station\\wzp data\\20211120\\Npc_3\\Npc_3_MMStack_Default_2.ome.tif\n",
      "\u001B[0;31mWarning: meta data shows that the tiff stack has 100000 frames, the sum of all file pages is 24822\u001B[0m\n"
     ]
    }
   ],
   "source": [
    "deeploc_analyzer = ailoc.common.SmlmDataAnalyzer(loc_model=deeploc_analyzer_param_widget.analyzer_param['deeploc_model'],\n",
    "                                                 tiff_path=deeploc_analyzer_param_widget.analyzer_param['tiff_path'],\n",
    "                                                 output_path=deeploc_analyzer_param_widget.analyzer_param['output_path'],\n",
    "                                                 time_block_gb=deeploc_analyzer_param_widget.analyzer_param['time_block_gb'],\n",
    "                                                 batch_size=deeploc_analyzer_param_widget.analyzer_param['batch_size'],\n",
    "                                                 sub_fov_size=deeploc_analyzer_param_widget.analyzer_param['sub_fov_size'],\n",
    "                                                 over_cut=deeploc_analyzer_param_widget.analyzer_param['over_cut'],\n",
    "                                                 num_workers=deeploc_analyzer_param_widget.analyzer_param['num_workers'])"
   ]
  },
  {
   "cell_type": "markdown",
   "metadata": {},
   "source": [
    "## 3. Check the output of a specific frame"
   ]
  },
  {
   "cell_type": "code",
   "execution_count": 4,
   "metadata": {
    "scrolled": false
   },
   "outputs": [
    {
     "data": {
      "application/vnd.jupyter.widget-view+json": {
       "model_id": "3b7bf483040f48b9bbb3eab0f7c69e7d",
       "version_major": 2,
       "version_minor": 0
      },
      "text/plain": [
       "VBox(children=(HBox(children=(Label(value='Input the frame number:'), BoundedIntText(value=0, max=24821))), Ou…"
      ]
     },
     "metadata": {},
     "output_type": "display_data"
    }
   ],
   "source": [
    "frame_num_widget = widgets.HBox([widgets.Label(value='Input the frame number:'), widgets.BoundedIntText(value=0, min=0, max=deeploc_analyzer.tiff_dataset.sum_file_length-1, step=1,)])\n",
    "out = widgets.interactive_output(deeploc_analyzer.check_single_frame_output, {'frame_num': frame_num_widget.children[1]})\n",
    "\n",
    "display(widgets.VBox([frame_num_widget, out]))"
   ]
  },
  {
   "cell_type": "markdown",
   "metadata": {},
   "source": [
    "## 4. Run the code cell to analyze the data  "
   ]
  },
  {
   "cell_type": "code",
   "execution_count": 5,
   "metadata": {},
   "outputs": [
    {
     "name": "stdout",
     "output_type": "stream",
     "text": [
      "Analyzing block: 1/12, contain frames: 2148, already analyzed: 0/24822, ETA: inf min\n",
      "Processing sub-FOV: 16/16, (376, 499, 376, 499), keep molecules in: (384, 499, 384, 499), loc model: <class 'ailoc.deeploc.deeploc.DeepLoc'>\n",
      "Analyzing block: 2/12, contain frames: 2148, already analyzed: 2148/24822, ETA: 23.97 min\n",
      "Processing sub-FOV: 16/16, (376, 499, 376, 499), keep molecules in: (384, 499, 384, 499), loc model: <class 'ailoc.deeploc.deeploc.DeepLoc'>\n",
      "Analyzing block: 3/12, contain frames: 2148, already analyzed: 4296/24822, ETA: 21.68 min\n",
      "Processing sub-FOV: 2/16, (120, 263, 0, 135), keep molecules in: (128, 255, 0, 127), loc model: <class 'ailoc.deeploc.deeploc.DeepLoc'>"
     ]
    },
    {
     "ename": "KeyboardInterrupt",
     "evalue": "",
     "output_type": "error",
     "traceback": [
      "\u001B[1;31m---------------------------------------------------------------------------\u001B[0m",
      "\u001B[1;31mKeyboardInterrupt\u001B[0m                         Traceback (most recent call last)",
      "Cell \u001B[1;32mIn[5], line 1\u001B[0m\n\u001B[1;32m----> 1\u001B[0m image_shape, fov_xy_nm, preds_rescale_array \u001B[38;5;241m=\u001B[39m \u001B[43mdeeploc_analyzer\u001B[49m\u001B[38;5;241;43m.\u001B[39;49m\u001B[43mdivide_and_conquer\u001B[49m\u001B[43m(\u001B[49m\u001B[43m)\u001B[49m\n",
      "File \u001B[1;32mE:\\projects\\FS_work\\AI-Loc\\AI-Loc_project\\ailoc\\common\\analyzer.py:433\u001B[0m, in \u001B[0;36mSmlmDataAnalyzer.divide_and_conquer\u001B[1;34m(self)\u001B[0m\n\u001B[0;32m    430\u001B[0m     \u001B[38;5;28mself\u001B[39m\u001B[38;5;241m.\u001B[39mui_print_signal\u001B[38;5;241m.\u001B[39memit(print_message_tmp) \u001B[38;5;28;01mif\u001B[39;00m \u001B[38;5;28mself\u001B[39m\u001B[38;5;241m.\u001B[39mui_print_signal \u001B[38;5;129;01mis\u001B[39;00m \u001B[38;5;129;01mnot\u001B[39;00m \u001B[38;5;28;01mNone\u001B[39;00m \u001B[38;5;28;01melse\u001B[39;00m \u001B[38;5;28;01mNone\u001B[39;00m\n\u001B[0;32m    432\u001B[0m     \u001B[38;5;28;01mwith\u001B[39;00m autocast():\n\u001B[1;32m--> 433\u001B[0m         molecule_list_tmp, inference_dict_tmp \u001B[38;5;241m=\u001B[39m \u001B[43mdata_analyze\u001B[49m\u001B[43m(\u001B[49m\u001B[43mloc_model\u001B[49m\u001B[38;5;241;43m=\u001B[39;49m\u001B[38;5;28;43mself\u001B[39;49m\u001B[38;5;241;43m.\u001B[39;49m\u001B[43mloc_model\u001B[49m\u001B[43m,\u001B[49m\n\u001B[0;32m    434\u001B[0m \u001B[43m                                                             \u001B[49m\u001B[43mdata\u001B[49m\u001B[38;5;241;43m=\u001B[39;49m\u001B[43msub_fov_data_list\u001B[49m\u001B[43m[\u001B[49m\u001B[43mi_fov\u001B[49m\u001B[43m]\u001B[49m\u001B[43m,\u001B[49m\n\u001B[0;32m    435\u001B[0m \u001B[43m                                                             \u001B[49m\u001B[43msub_fov_xy\u001B[49m\u001B[38;5;241;43m=\u001B[39;49m\u001B[43msub_fov_xy_list\u001B[49m\u001B[43m[\u001B[49m\u001B[43mi_fov\u001B[49m\u001B[43m]\u001B[49m\u001B[43m,\u001B[49m\n\u001B[0;32m    436\u001B[0m \u001B[43m                                                             \u001B[49m\u001B[43mcamera\u001B[49m\u001B[38;5;241;43m=\u001B[39;49m\u001B[38;5;28;43mself\u001B[39;49m\u001B[38;5;241;43m.\u001B[39;49m\u001B[43mcamera\u001B[49m\u001B[43m,\u001B[49m\n\u001B[0;32m    437\u001B[0m \u001B[43m                                                             \u001B[49m\u001B[43mbatch_size\u001B[49m\u001B[38;5;241;43m=\u001B[39;49m\u001B[38;5;28;43mself\u001B[39;49m\u001B[38;5;241;43m.\u001B[39;49m\u001B[43mbatch_size\u001B[49m\u001B[43m)\u001B[49m\n\u001B[0;32m    438\u001B[0m     sub_fov_molecule_list\u001B[38;5;241m.\u001B[39mappend(molecule_list_tmp)\n\u001B[0;32m    440\u001B[0m print_message_tmp \u001B[38;5;241m=\u001B[39m \u001B[38;5;124m'\u001B[39m\u001B[38;5;124m'\u001B[39m\n",
      "File \u001B[1;32mE:\\projects\\FS_work\\AI-Loc\\AI-Loc_project\\ailoc\\common\\analyzer.py:59\u001B[0m, in \u001B[0;36mdata_analyze\u001B[1;34m(loc_model, data, sub_fov_xy, camera, batch_size)\u001B[0m\n\u001B[0;32m     55\u001B[0m \u001B[38;5;66;03m# for each batch, rolling inference needs to take 2 more images at the beginning and end, but only needs\u001B[39;00m\n\u001B[0;32m     56\u001B[0m \u001B[38;5;66;03m# to return the molecule list for the middle images\u001B[39;00m\n\u001B[0;32m     57\u001B[0m \u001B[38;5;28;01mfor\u001B[39;00m i \u001B[38;5;129;01min\u001B[39;00m \u001B[38;5;28mrange\u001B[39m(\u001B[38;5;28mint\u001B[39m(np\u001B[38;5;241m.\u001B[39mceil(num_img \u001B[38;5;241m/\u001B[39m batch_size))):\n\u001B[0;32m     58\u001B[0m     molecule_array_tmp, inference_dict_tmp \u001B[38;5;241m=\u001B[39m \\\n\u001B[1;32m---> 59\u001B[0m         \u001B[43mloc_model\u001B[49m\u001B[38;5;241;43m.\u001B[39;49m\u001B[43manalyze\u001B[49m\u001B[43m(\u001B[49m\u001B[43mailoc\u001B[49m\u001B[38;5;241;43m.\u001B[39;49m\u001B[43mcommon\u001B[49m\u001B[38;5;241;43m.\u001B[39;49m\u001B[43mgpu\u001B[49m\u001B[43m(\u001B[49m\u001B[43mdata\u001B[49m\u001B[43m[\u001B[49m\u001B[43mi\u001B[49m\u001B[43m \u001B[49m\u001B[38;5;241;43m*\u001B[39;49m\u001B[43m \u001B[49m\u001B[43mbatch_size\u001B[49m\u001B[43m:\u001B[49m\u001B[43m \u001B[49m\u001B[43m(\u001B[49m\u001B[43mi\u001B[49m\u001B[43m \u001B[49m\u001B[38;5;241;43m+\u001B[39;49m\u001B[43m \u001B[49m\u001B[38;5;241;43m1\u001B[39;49m\u001B[43m)\u001B[49m\u001B[43m \u001B[49m\u001B[38;5;241;43m*\u001B[39;49m\u001B[43m \u001B[49m\u001B[43mbatch_size\u001B[49m\u001B[43m \u001B[49m\u001B[38;5;241;43m+\u001B[39;49m\u001B[43m \u001B[49m\u001B[38;5;241;43m2\u001B[39;49m\u001B[43m]\u001B[49m\u001B[43m)\u001B[49m\u001B[43m,\u001B[49m\u001B[43m \u001B[49m\u001B[43mcamera\u001B[49m\u001B[43m,\u001B[49m\u001B[43m \u001B[49m\u001B[43msub_fov_xy\u001B[49m\u001B[43m)\u001B[49m \\\n\u001B[0;32m     60\u001B[0m             \u001B[38;5;28;01mif\u001B[39;00m rolling_inference \u001B[38;5;28;01melse\u001B[39;00m \\\n\u001B[0;32m     61\u001B[0m             loc_model\u001B[38;5;241m.\u001B[39manalyze(ailoc\u001B[38;5;241m.\u001B[39mcommon\u001B[38;5;241m.\u001B[39mgpu(data[i \u001B[38;5;241m*\u001B[39m batch_size: (i \u001B[38;5;241m+\u001B[39m \u001B[38;5;241m1\u001B[39m) \u001B[38;5;241m*\u001B[39m batch_size]), camera, sub_fov_xy)\n\u001B[0;32m     63\u001B[0m     \u001B[38;5;66;03m# adjust the frame number and the x, y position of the molecules\u001B[39;00m\n\u001B[0;32m     64\u001B[0m     \u001B[38;5;28;01mif\u001B[39;00m \u001B[38;5;28mlen\u001B[39m(molecule_array_tmp) \u001B[38;5;241m>\u001B[39m \u001B[38;5;241m0\u001B[39m:\n",
      "File \u001B[1;32mE:\\projects\\FS_work\\AI-Loc\\AI-Loc_project\\ailoc\\deeploc\\deeploc.py:233\u001B[0m, in \u001B[0;36mDeepLoc.analyze\u001B[1;34m(self, data, camera, sub_fov_xy)\u001B[0m\n\u001B[0;32m    216\u001B[0m \u001B[38;5;250m\u001B[39m\u001B[38;5;124;03m\"\"\"\u001B[39;00m\n\u001B[0;32m    217\u001B[0m \u001B[38;5;124;03mWrap the inference and post_process function, receive a batch of data and return the molecule list.\u001B[39;00m\n\u001B[0;32m    218\u001B[0m \n\u001B[1;32m   (...)\u001B[0m\n\u001B[0;32m    229\u001B[0m \u001B[38;5;124;03m        is a dict that contains the inferred multichannel maps from the network.\u001B[39;00m\n\u001B[0;32m    230\u001B[0m \u001B[38;5;124;03m\"\"\"\u001B[39;00m\n\u001B[0;32m    232\u001B[0m p_pred, xyzph_pred, xyzph_sig_pred, bg_pred \u001B[38;5;241m=\u001B[39m \u001B[38;5;28mself\u001B[39m\u001B[38;5;241m.\u001B[39minference(data, camera)\n\u001B[1;32m--> 233\u001B[0m molecule_array, inference_dict \u001B[38;5;241m=\u001B[39m \u001B[38;5;28;43mself\u001B[39;49m\u001B[38;5;241;43m.\u001B[39;49m\u001B[43mpost_process\u001B[49m\u001B[43m(\u001B[49m\u001B[43mp_pred\u001B[49m\u001B[43m,\u001B[49m\u001B[43m \u001B[49m\u001B[43mxyzph_pred\u001B[49m\u001B[43m,\u001B[49m\u001B[43m \u001B[49m\u001B[43mxyzph_sig_pred\u001B[49m\u001B[43m,\u001B[49m\u001B[43m \u001B[49m\u001B[43mbg_pred\u001B[49m\u001B[43m)\u001B[49m\n\u001B[0;32m    235\u001B[0m \u001B[38;5;28;01mreturn\u001B[39;00m molecule_array, inference_dict\n",
      "File \u001B[1;32mE:\\projects\\FS_work\\AI-Loc\\AI-Loc_project\\ailoc\\deeploc\\deeploc.py:188\u001B[0m, in \u001B[0;36mDeepLoc.post_process\u001B[1;34m(self, p_pred, xyzph_pred, xyzph_sig_pred, bg_pred)\u001B[0m\n\u001B[0;32m    179\u001B[0m \u001B[38;5;250m\u001B[39m\u001B[38;5;124;03m\"\"\"\u001B[39;00m\n\u001B[0;32m    180\u001B[0m \u001B[38;5;124;03mPostprocess a batch of inference output map, output is GMM maps and molecule array\u001B[39;00m\n\u001B[0;32m    181\u001B[0m \u001B[38;5;124;03m[frame, x, y, z, photon, integrated prob, x uncertainty, y uncertainty, z uncertainty,\u001B[39;00m\n\u001B[0;32m    182\u001B[0m \u001B[38;5;124;03mphoton uncertainty, x_offset_pixel, y_offset_pixel].\u001B[39;00m\n\u001B[0;32m    183\u001B[0m \u001B[38;5;124;03m\"\"\"\u001B[39;00m\n\u001B[0;32m    185\u001B[0m inference_dict \u001B[38;5;241m=\u001B[39m {\u001B[38;5;124m'\u001B[39m\u001B[38;5;124mprob\u001B[39m\u001B[38;5;124m'\u001B[39m: [], \u001B[38;5;124m'\u001B[39m\u001B[38;5;124mx_offset\u001B[39m\u001B[38;5;124m'\u001B[39m: [], \u001B[38;5;124m'\u001B[39m\u001B[38;5;124my_offset\u001B[39m\u001B[38;5;124m'\u001B[39m: [], \u001B[38;5;124m'\u001B[39m\u001B[38;5;124mz_offset\u001B[39m\u001B[38;5;124m'\u001B[39m: [], \u001B[38;5;124m'\u001B[39m\u001B[38;5;124mphoton\u001B[39m\u001B[38;5;124m'\u001B[39m: [],\n\u001B[0;32m    186\u001B[0m                   \u001B[38;5;124m'\u001B[39m\u001B[38;5;124mbg\u001B[39m\u001B[38;5;124m'\u001B[39m: [], \u001B[38;5;124m'\u001B[39m\u001B[38;5;124mx_sig\u001B[39m\u001B[38;5;124m'\u001B[39m: [], \u001B[38;5;124m'\u001B[39m\u001B[38;5;124my_sig\u001B[39m\u001B[38;5;124m'\u001B[39m: [], \u001B[38;5;124m'\u001B[39m\u001B[38;5;124mz_sig\u001B[39m\u001B[38;5;124m'\u001B[39m: [], \u001B[38;5;124m'\u001B[39m\u001B[38;5;124mphoton_sig\u001B[39m\u001B[38;5;124m'\u001B[39m: []}\n\u001B[1;32m--> 188\u001B[0m inference_dict[\u001B[38;5;124m'\u001B[39m\u001B[38;5;124mprob\u001B[39m\u001B[38;5;124m'\u001B[39m]\u001B[38;5;241m.\u001B[39mappend(\u001B[43mailoc\u001B[49m\u001B[38;5;241;43m.\u001B[39;49m\u001B[43mcommon\u001B[49m\u001B[38;5;241;43m.\u001B[39;49m\u001B[43mcpu\u001B[49m\u001B[43m(\u001B[49m\u001B[43mp_pred\u001B[49m\u001B[43m)\u001B[49m)\n\u001B[0;32m    189\u001B[0m inference_dict[\u001B[38;5;124m'\u001B[39m\u001B[38;5;124mx_offset\u001B[39m\u001B[38;5;124m'\u001B[39m]\u001B[38;5;241m.\u001B[39mappend(ailoc\u001B[38;5;241m.\u001B[39mcommon\u001B[38;5;241m.\u001B[39mcpu(xyzph_pred[:, \u001B[38;5;241m0\u001B[39m, :, :]))\n\u001B[0;32m    190\u001B[0m inference_dict[\u001B[38;5;124m'\u001B[39m\u001B[38;5;124my_offset\u001B[39m\u001B[38;5;124m'\u001B[39m]\u001B[38;5;241m.\u001B[39mappend(ailoc\u001B[38;5;241m.\u001B[39mcommon\u001B[38;5;241m.\u001B[39mcpu(xyzph_pred[:, \u001B[38;5;241m1\u001B[39m, :, :]))\n",
      "File \u001B[1;32mE:\\projects\\FS_work\\AI-Loc\\AI-Loc_project\\ailoc\\common\\utilities.py:41\u001B[0m, in \u001B[0;36mcpu\u001B[1;34m(x)\u001B[0m\n\u001B[0;32m     39\u001B[0m \u001B[38;5;28;01mif\u001B[39;00m \u001B[38;5;129;01mnot\u001B[39;00m \u001B[38;5;28misinstance\u001B[39m(x, torch\u001B[38;5;241m.\u001B[39mTensor):\n\u001B[0;32m     40\u001B[0m     \u001B[38;5;28;01mreturn\u001B[39;00m np\u001B[38;5;241m.\u001B[39marray(x, dtype\u001B[38;5;241m=\u001B[39mnp\u001B[38;5;241m.\u001B[39mfloat32)\n\u001B[1;32m---> 41\u001B[0m \u001B[38;5;28;01mreturn\u001B[39;00m \u001B[43mx\u001B[49m\u001B[38;5;241;43m.\u001B[39;49m\u001B[43mcpu\u001B[49m\u001B[43m(\u001B[49m\u001B[43m)\u001B[49m\u001B[38;5;241m.\u001B[39mdetach()\u001B[38;5;241m.\u001B[39mnumpy()\n",
      "\u001B[1;31mKeyboardInterrupt\u001B[0m: "
     ]
    }
   ],
   "source": [
    "image_shape, fov_xy_nm, preds_rescale_array = deeploc_analyzer.divide_and_conquer()"
   ]
  },
  {
   "cell_type": "code",
   "execution_count": null,
   "metadata": {},
   "outputs": [],
   "source": []
  }
 ],
 "metadata": {
  "kernelspec": {
   "display_name": "Python 3 (ipykernel)",
   "language": "python",
   "name": "python3"
  },
  "language_info": {
   "codemirror_mode": {
    "name": "ipython",
    "version": 3
   },
   "file_extension": ".py",
   "mimetype": "text/x-python",
   "name": "python",
   "nbconvert_exporter": "python",
   "pygments_lexer": "ipython3",
   "version": "3.9.7"
  }
 },
 "nbformat": 4,
 "nbformat_minor": 1
}
